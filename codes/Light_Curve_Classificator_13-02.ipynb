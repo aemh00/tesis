{
 "cells": [
  {
   "cell_type": "code",
   "execution_count": 1,
   "metadata": {},
   "outputs": [],
   "source": [
    "%matplotlib notebook\n",
    "import numpy as np\n",
    "from numpy.random import RandomState\n",
    "import pandas as pd\n",
    "import matplotlib.pyplot as plt\n",
    "from matplotlib import animation\n",
    "#from os.path import join\n",
    "import ipywidgets as widgets\n",
    "from IPython.display import display\n",
    "import torch\n",
    "from torch.utils.data import Dataset, DataLoader, SubsetRandomSampler\n",
    "import torch.nn.functional as F\n",
    "from torch import nn, cuda\n",
    "from torch.autograd import Variable\n",
    "import pickle\n",
    "from torchsampler import ImbalancedDatasetSampler\n",
    "#from sklearn import svm, datasets\n",
    "from sklearn.model_selection import train_test_split\n",
    "from sklearn.metrics import f1_score,confusion_matrix, classification_report\n",
    "from tqdm.notebook import tqdm"
   ]
  },
  {
   "cell_type": "markdown",
   "metadata": {},
   "source": [
    "### Definiciones de Clases, Variables, Datasets"
   ]
  },
  {
   "cell_type": "code",
   "execution_count": 2,
   "metadata": {},
   "outputs": [],
   "source": [
    "# original\n",
    "\n",
    "class LightCurveRRL_Dataset(Dataset):\n",
    "    def __init__(self, df_metadata, folder_name, transform=None):        \n",
    "        self.data = list()\n",
    "        self.name = df_metadata[\"ID_VVV\"]\n",
    "        self.period = df_metadata[\"OGLE_period\"]\n",
    "        self.label = torch.from_numpy(df_metadata[\"label\"].values)\n",
    "        self.transform = transform\n",
    "        column_names_lc = [\"mjd\", \"mag\", \"err\"]\n",
    "        column_names_fill = [\"mjd\", \"mag\", \"err\", \"phase\", \"mask\"]\n",
    "        self.folder = folder_name\n",
    "        #self.classes = [\"T2C\", \"ECL\"]\n",
    "        df_zeros = pd.DataFrame(np.zeros((1, 5)),columns=column_names_fill)\n",
    "                \n",
    "        for i in range(len(df_metadata)):\n",
    "            rrl_data = pd.read_csv(join(data_path, self.folder, self.name[i]+'.dat'), \n",
    "                                  header=None, delim_whitespace=True, comment='#', names=column_names_lc)\n",
    "            #rrl_data.sort_values(by=\"mjd\", inplace=True)\n",
    "            rrl_data[\"phase\"] = np.mod(rrl_data[\"mjd\"], self.period[i])/self.period[i]\n",
    "            #normalize\n",
    "            mag_std = rrl_data[\"mag\"].std()\n",
    "            rrl_data[\"mjd\"] = rrl_data[\"mjd\"]-rrl_data[\"mjd\"].min()\n",
    "            rrl_data[\"mag\"] = (rrl_data[\"mag\"]-rrl_data[\"mag\"].mean())/mag_std\n",
    "            rrl_data[\"err\"] = rrl_data[\"err\"]/mag_std\n",
    "            rrl_data.sort_values(by=\"phase\", inplace=True)\n",
    "            # ajustar todas a largo 335, rellenando con 0s las que sean mas pequeñas,\n",
    "            # asignando un label '1' si es dato real y '0' si es dato rellenado.\n",
    "            if len(rrl_data) == 335:\n",
    "                rrl_data[\"mask\"] = 1\n",
    "            else:\n",
    "                while len(rrl_data) < 335:\n",
    "                    #RELLENAR con 0s;\n",
    "                    rrl_data = rrl_data.append(df_zeros, ignore_index=True,sort=False)\n",
    "            rrl_data = rrl_data.fillna(1)\n",
    "            rrl_data = rrl_data[[\"phase\",\"mag\",\"err\",\"mjd\",\"mask\"]]\n",
    "            self.data.append(torch.from_numpy(rrl_data.values.astype('float32')))\n",
    "            \n",
    "    def __getitem__(self, idx):\n",
    "        sample = {'data': self.data[idx], 'label': self.label[idx]}\n",
    "        if self.transform:\n",
    "            sample = self.transform(sample)\n",
    "        return sample\n",
    "\n",
    "    def plot(self, idx, ax):\n",
    "        assert len(ax)==2, \"Needs two subaxis\"\n",
    "        ax[0].cla()  \n",
    "        ax[0].errorbar(self.data[idx][:, 0], self.data[idx][:, 1], self.data[idx][:, 2], fmt='.')\n",
    "        ax[0].invert_yaxis()\n",
    "        ax[1].cla()\n",
    "        ax[1].errorbar(self.data[idx][:, 3], self.data[idx][:, 1], self.data[idx][:, 2], fmt='.')\n",
    "        ax[1].invert_yaxis()\n",
    "        ax[0].set_title(\"%d %s %0.4f\" %(idx, self.name[idx],self.period[idx]))\n",
    "\n",
    "    def __len__(self):\n",
    "        return len(self.data)"
   ]
  },
  {
   "cell_type": "code",
   "execution_count": 3,
   "metadata": {},
   "outputs": [],
   "source": [
    "with open('PhaseSorted_NotInterp_ecl_c.pkl', 'rb') as handle:\n",
    "    vvv_ecl_c = pickle.load(handle)\n",
    "#label 0"
   ]
  },
  {
   "cell_type": "code",
   "execution_count": 4,
   "metadata": {},
   "outputs": [],
   "source": [
    "with open('PhaseSorted_NotInterp_ecl_nc.pkl', 'rb') as handle:\n",
    "    vvv_ecl_nc = pickle.load(handle)\n",
    "#label 1"
   ]
  },
  {
   "cell_type": "code",
   "execution_count": 5,
   "metadata": {},
   "outputs": [],
   "source": [
    "with open('PhaseSorted_NotInterp_ell.pkl', 'rb') as handle:\n",
    "    vvv_ell = pickle.load(handle)\n",
    "#label 2"
   ]
  },
  {
   "cell_type": "code",
   "execution_count": 6,
   "metadata": {},
   "outputs": [],
   "source": [
    "with open('PhaseSorted_NotInterp_rrab.pkl', 'rb') as handle:\n",
    "    vvv_rrab = pickle.load(handle)\n",
    "#label 3"
   ]
  },
  {
   "cell_type": "code",
   "execution_count": 7,
   "metadata": {},
   "outputs": [],
   "source": [
    "with open('PhaseSorted_NotInterp_rrc.pkl', 'rb') as handle:\n",
    "    vvv_rrc = pickle.load(handle)\n",
    "#label 4"
   ]
  },
  {
   "cell_type": "code",
   "execution_count": 8,
   "metadata": {},
   "outputs": [],
   "source": [
    "VVV_b = [vvv_ecl_c,vvv_ecl_nc,vvv_ell,vvv_rrab,vvv_rrc]\n",
    "VVV_len = [len(i) for i in VVV_b]\n",
    "classes = ('ECL_Contact', 'ECL_No-Contact', 'Ellipsoid','RRL_AB', 'RRL_C')\n",
    "#class_names = ['ECL_C','ECL_NC','ELL','RRAB','RRC']\n",
    "#class_names = ['RRAB','RRC','ECL_C','ECL_NC','ELL']"
   ]
  },
  {
   "cell_type": "code",
   "execution_count": 9,
   "metadata": {},
   "outputs": [],
   "source": [
    "def count_classes(datos):\n",
    "    assert int(datos[0]['label'].item())==0\n",
    "    classes=[[0,0],[1,0],[2,0],[3,0],[4,0]]\n",
    "    for data in datos:\n",
    "        label = int(data['label'].item())\n",
    "        #print(label)\n",
    "        if label == 0:\n",
    "            classes[0][1]+=1\n",
    "        elif label == 1:\n",
    "            classes[1][1]+=1\n",
    "        elif label == 2:\n",
    "            classes[2][1]+=1\n",
    "        elif label == 3:\n",
    "            classes[3][1]+=1\n",
    "        elif label == 4:\n",
    "            classes[4][1]+=1\n",
    "    return classes"
   ]
  },
  {
   "cell_type": "markdown",
   "metadata": {},
   "source": [
    "**Dataset**"
   ]
  },
  {
   "cell_type": "code",
   "execution_count": 10,
   "metadata": {},
   "outputs": [],
   "source": [
    "VVV = torch.utils.data.ConcatDataset([vvv_ecl_c, vvv_ecl_nc, vvv_ell,vvv_rrab, vvv_rrc])"
   ]
  },
  {
   "cell_type": "code",
   "execution_count": 11,
   "metadata": {},
   "outputs": [],
   "source": [
    "#phase = VVV[i]['data'][:,0]\n",
    "#mag = VVV[i]['data'][:,1]\n",
    "#err = VVV[i]['data'][:,2]\n",
    "#mask = VVV[i]['data'][:,4]\n",
    "#label = VVV[i]['label'].item()"
   ]
  },
  {
   "cell_type": "code",
   "execution_count": null,
   "metadata": {},
   "outputs": [],
   "source": [
    "# pts100 son las curvas de luz con 100 o más puntos/entradas 'validas' (mascara mas larga = mayor # de 1s)\n",
    "pts100 = list()\n",
    "for i in VVV:\n",
    "    mask=i['data'][:,4]\n",
    "    if sum(mask)>=100:\n",
    "        pts100.append(i)\n",
    "print(len(pts100),count_classes(pts100))"
   ]
  },
  {
   "cell_type": "code",
   "execution_count": null,
   "metadata": {},
   "outputs": [],
   "source": [
    "indice_menor = 5\n",
    "cantidad_menor = min(VVV_len)\n",
    "for i,a in enumerate(VVV_len):\n",
    "    if a == cantidad_menor:\n",
    "        indice_menor=i\n",
    "print(indice_menor,cantidad_menor, cantidad_menor*5)"
   ]
  },
  {
   "cell_type": "markdown",
   "metadata": {},
   "source": [
    "Generar Sampleo Random Manual Equitativo (EMRS)"
   ]
  },
  {
   "cell_type": "code",
   "execution_count": 67,
   "metadata": {},
   "outputs": [],
   "source": [
    "def EMRS_dataset(rs):\n",
    "    # Sampleo Random Manual NoEquitativo (NEMRS)\n",
    "    VVV_toy = list()\n",
    "    ant=0\n",
    "    for i,a in enumerate(VVV_len):\n",
    "        if i==2:\n",
    "            randind = np.random.permutation(np.arange(a))[:789]+ant\n",
    "        elif i==3:\n",
    "            randind = np.random.permutation(np.arange(a))[:429*3]+ant\n",
    "        elif i==4:\n",
    "            randind = np.random.permutation(np.arange(a))[:429]+ant\n",
    "        else:\n",
    "            randind = np.random.permutation(np.arange(a))[:429*4]+ant\n",
    "        VVV_toy.append(randind)\n",
    "        ant=ant+a\n",
    "    VVV_sameRandInd= np.concatenate(VVV_toy)\n",
    "    # Data filter\n",
    "    targets = [VVV[i]['label'].item() for i in VVV_sameRandInd]\n",
    "    targets = torch.tensor(targets,dtype=torch.long)\n",
    "    LC_magData = [VVV[i]['data'][:,1].numpy() for i in VVV_sameRandInd]\n",
    "    LC_errData = [VVV[i]['data'][:,2].numpy() for i in VVV_sameRandInd]\n",
    "    LC_mask = [VVV[i]['data'][:,4].numpy() for i in VVV_sameRandInd]\n",
    "    LC_magData = torch.tensor(LC_magData)\n",
    "    LC_errData = torch.tensor(LC_errData)\n",
    "    LC_mask = torch.tensor(LC_mask)\n",
    "    mag_err_mask=torch.stack((LC_magData,LC_errData,LC_mask),dim=1)\n",
    "    # Dataset\n",
    "    VVV_equalDataset = equal_manually_random(mag_err_mask, targets)\n",
    "    return VVV_equalDataset"
   ]
  },
  {
   "cell_type": "code",
   "execution_count": 28,
   "metadata": {},
   "outputs": [],
   "source": [
    "VVV_eqData=EMRS_dataset(RandomState())\n"
   ]
  },
  {
   "cell_type": "code",
   "execution_count": null,
   "metadata": {
    "scrolled": true
   },
   "outputs": [],
   "source": [
    "VVV_toy = list()\n",
    "ant=0\n",
    "for i,a in enumerate(VVV_len):\n",
    "    randind = np.random.permutation(np.arange(a))[:cantidad_menor]+ant\n",
    "    VVV_toy.append(randind)\n",
    "    ant=ant+a\n",
    "VVV_sameRandInd= np.concatenate(VVV_toy)\n",
    "VVV_sameRandInd"
   ]
  },
  {
   "cell_type": "code",
   "execution_count": null,
   "metadata": {},
   "outputs": [],
   "source": []
  },
  {
   "cell_type": "code",
   "execution_count": null,
   "metadata": {},
   "outputs": [],
   "source": [
    "targets = [VVV[i]['label'].item() for i in VVV_sameRandInd]\n",
    "#targets = np.array(targets,dtype='float32')\n",
    "targets = torch.tensor(targets,dtype=torch.long)\n",
    "#targets = targets.unsqueeze(-1)\n",
    "targets.shape"
   ]
  },
  {
   "cell_type": "code",
   "execution_count": null,
   "metadata": {},
   "outputs": [],
   "source": [
    "LC_magData = [VVV[i]['data'][:,1].numpy() for i in VVV_sameRandInd]\n",
    "LC_errData = [VVV[i]['data'][:,2].numpy() for i in VVV_sameRandInd]\n",
    "LC_mask = [VVV[i]['data'][:,4].numpy() for i in VVV_sameRandInd]\n",
    "LC_magData = torch.tensor(LC_magData)\n",
    "LC_errData = torch.tensor(LC_errData)\n",
    "LC_mask = torch.tensor(LC_mask)\n",
    "#LC_magData = LC_magData.squeeze(-1)\n",
    "LC_magData.shape"
   ]
  },
  {
   "cell_type": "code",
   "execution_count": null,
   "metadata": {},
   "outputs": [],
   "source": [
    "mag_err_mask=torch.stack((LC_magData,LC_errData,LC_mask),dim=1)"
   ]
  },
  {
   "cell_type": "code",
   "execution_count": 68,
   "metadata": {},
   "outputs": [],
   "source": [
    "class equal_manually_random(Dataset):    \n",
    "    def __init__(self, data, targets,transform=None):\n",
    "        assert torch.is_tensor(data)==True and torch.is_tensor(targets)==True\n",
    "        self.data=data\n",
    "        self.labels=targets\n",
    "        self.transform=transform\n",
    "    \n",
    "    def __getitem__(self, idx):\n",
    "        sample = {'data': self.data[idx], 'label': self.labels[idx]}\n",
    "        if self.transform:\n",
    "            sample = self.transform(sample)\n",
    "        return sample\n",
    "\n",
    "    def __len__(self):\n",
    "        return len(self.data)"
   ]
  },
  {
   "cell_type": "code",
   "execution_count": null,
   "metadata": {},
   "outputs": [],
   "source": [
    "VVV_equalDataset = equal_manually_random(mag_err_mask, targets)"
   ]
  },
  {
   "cell_type": "code",
   "execution_count": null,
   "metadata": {},
   "outputs": [],
   "source": [
    "VVV_equalDataset[:]['label']"
   ]
  },
  {
   "cell_type": "markdown",
   "metadata": {},
   "source": [
    "### Dataloaders"
   ]
  },
  {
   "cell_type": "code",
   "execution_count": 69,
   "metadata": {},
   "outputs": [],
   "source": [
    "def make_dataloaders(dataset,use_IDS,split,train_size=32,test_size=64):\n",
    "    if use_IDS:\n",
    "        # ImbalancedDatasetSampler\n",
    "        train_idx, valid_idx= train_test_split(\n",
    "                                        np.arange(len(dataset)),\n",
    "                                        test_size=split,\n",
    "                                        shuffle=True,\n",
    "                                        stratify=dataset[:]['label'])\n",
    "        train_idx, valid_idx = list(train_idx), list(valid_idx)\n",
    "        train_loader = DataLoader(dataset,\n",
    "                          sampler=ImbalancedDatasetSampler(dataset,\n",
    "                                                           indices=train_idx,\n",
    "                                                           callback_get_label= lambda dataset, idx:dataset[idx]['label'].item()),\n",
    "                          batch_size=train_size, shuffle=False)\n",
    "\n",
    "        test_loader= DataLoader(dataset,\n",
    "                                sampler=SubsetRandomSampler(valid_idx),\n",
    "                                batch_size=test_size, shuffle=False)\n",
    "    else:\n",
    "        train_idx, valid_idx= train_test_split(\n",
    "                                        np.arange(len(dataset)),\n",
    "                                        test_size=split,\n",
    "                                        shuffle=True,\n",
    "                                        stratify=None)\n",
    "        train_idx, valid_idx = list(train_idx), list(valid_idx)\n",
    "        train_loader = DataLoader(dataset,\n",
    "                                sampler=SubsetRandomSampler(train_idx),\n",
    "                                batch_size=train_size, shuffle=False)\n",
    "\n",
    "        test_loader = DataLoader(dataset,\n",
    "                                sampler=SubsetRandomSampler(valid_idx),\n",
    "                                batch_size=test_size, shuffle=False)\n",
    "    return train_loader, test_loader"
   ]
  },
  {
   "cell_type": "code",
   "execution_count": null,
   "metadata": {},
   "outputs": [],
   "source": [
    "train_loader, test_loader= make_dataloaders(VVV_equalDataset,0.25)"
   ]
  },
  {
   "cell_type": "code",
   "execution_count": null,
   "metadata": {},
   "outputs": [],
   "source": [
    "#from sklearn.model_selection import train_test_split\n",
    "\n",
    "\n",
    "train_idx, valid_idx= train_test_split(\n",
    "                                    np.arange(len(VVV_equalDataset)),\n",
    "                                    test_size=0.25,\n",
    "                                    shuffle=True,\n",
    "                                    stratify=None)\n",
    "train_idx, valid_idx = list(train_idx), list(valid_idx)\n",
    "display(len(train_idx), len(valid_idx))"
   ]
  },
  {
   "cell_type": "code",
   "execution_count": null,
   "metadata": {},
   "outputs": [],
   "source": [
    "# probar SIN ImbalancedDatasetSampler\n",
    "\n",
    "train_loader = DataLoader(VVV_equalDataset,\n",
    "    sampler=SubsetRandomSampler(train_idx),\n",
    "    batch_size=32, shuffle=False)\n",
    "\n",
    "test_loader = DataLoader(VVV_equalDataset,\n",
    "    sampler=SubsetRandomSampler(valid_idx),\n",
    "    batch_size=64, shuffle=False)"
   ]
  },
  {
   "cell_type": "markdown",
   "metadata": {},
   "source": [
    "### Def. Modelo NN"
   ]
  },
  {
   "cell_type": "code",
   "execution_count": 70,
   "metadata": {},
   "outputs": [],
   "source": [
    "# implementacion adaptada a 1D de https://github.com/naoto0804/pytorch-inpainting-with-partial-conv\n",
    "\n",
    "class PartialConv(nn.Module):\n",
    "    def __init__(self, in_channels_C,in_channels_M, out_channels, kernel_size, stride=1,\n",
    "                 padding=0, dilation=1, groups=1, bias=True):\n",
    "        super().__init__()\n",
    "        self.input_conv = nn.Conv1d(in_channels_C, out_channels, kernel_size,\n",
    "                                    stride, padding, dilation, groups, bias)\n",
    "        self.mask_conv = nn.Conv1d(in_channels_M, out_channels, kernel_size,\n",
    "                                   stride, padding, dilation, groups, False)\n",
    "        # self.input_conv.apply(weights_init('kaiming'))\n",
    "\n",
    "        torch.nn.init.constant_(self.mask_conv.weight, 1.0)\n",
    "\n",
    "        # mask is not updated\n",
    "        for param in self.mask_conv.parameters():\n",
    "            param.requires_grad = False\n",
    "\n",
    "    def forward(self,input, mask):\n",
    "        # http://masc.cs.gmu.edu/wiki/partialconv\n",
    "        # C(X) = W^T * X + b, C(0) = b, D(M) = 1 * M + 0 = sum(M)\n",
    "        # W^T* (M .* X) / sum(M) + b = [C(M .* X) – C(0)] / D(M) + C(0)\n",
    "        #print(input.shape, mask.shape)\n",
    "        output = self.input_conv(input * mask)\n",
    "        if self.input_conv.bias is not None:\n",
    "            output_bias = self.input_conv.bias.view(1, -1, 1).expand_as(output)\n",
    "        else:\n",
    "            output_bias = torch.zeros_like(output)\n",
    "\n",
    "        with torch.no_grad():\n",
    "            output_mask = self.mask_conv(mask)\n",
    "\n",
    "        no_update_holes = output_mask == 0\n",
    "        mask_sum = output_mask.masked_fill_(no_update_holes, 1.0)\n",
    "\n",
    "        output_pre = (output - output_bias) / mask_sum + output_bias\n",
    "        output = output_pre.masked_fill_(no_update_holes, 0.0)\n",
    "\n",
    "        new_mask = torch.ones_like(output)\n",
    "        new_mask = new_mask.masked_fill_(no_update_holes, 0.0)\n",
    "\n",
    "        return output, new_mask"
   ]
  },
  {
   "cell_type": "code",
   "execution_count": 98,
   "metadata": {},
   "outputs": [],
   "source": [
    "class MLP(torch.nn.Module):\n",
    "    def __init__(self, in_channels_C=2,in_channels_M=1,c1=128,c2=64, c3=32, c4=16,c5=8, kernel_size=3, hid_dim=32,hid2_dim=16,hid3_dim=8,output_dim=5): \n",
    "        super(MLP, self).__init__()\n",
    "        self.pconv1 = PartialConv(in_channels_C,in_channels_M, c4, kernel_size, stride=1, padding=0, dilation=1, bias=True)\n",
    "        self.pconv2 = PartialConv(c4, c4, c4, kernel_size, stride=1, padding=0, dilation=1, bias=True)\n",
    "        self.pconv3 = PartialConv(c4, c4, c4, kernel_size, stride=1, padding=0, dilation=1, bias=True)\n",
    "        #self.pconv4 = PartialConv(c4, c4, c4, kernel_size, stride=2, padding=0, dilation=1, bias=True)\n",
    "        self.pool1 = torch.nn.AvgPool1d(kernel_size, stride=None, padding=0,\n",
    "                                         ceil_mode=False, count_include_pad=True)\n",
    "        self.gap = torch.nn.AdaptiveMaxPool1d(10)\n",
    "        \n",
    "        self.hidden1 = torch.nn.Linear(c4*10, hid2_dim, bias=True)\n",
    "        self.hidden2 = torch.nn.Linear(hid2_dim, hid2_dim, bias=True)\n",
    "        #self.hidden3 = torch.nn.Linear(hid2_dim, hid3_dim, bias=True)\n",
    "        self.output = torch.nn.Linear(hid2_dim, output_dim, bias=False)\n",
    "\n",
    "        self.activation = torch.nn.ReLU()\n",
    "        #self.soft = torch.nn.Softmax(dim=1)\n",
    "        \n",
    "    def forward(self, x,mask, t=0):\n",
    "        if t==1:\n",
    "            x = x.transpose(0,1)\n",
    "            mask = mask.transpose(0,1)\n",
    "        elif t==2:\n",
    "            #x = x.transpose(1,2)\n",
    "            mask = mask.transpose(1,2)\n",
    "    \n",
    "        x, mask = self.pconv1(x, mask)\n",
    "        x = self.activation(x)\n",
    "        x = self.pool1(x)\n",
    "        mask = self.pool1(mask)\n",
    "        x, mask = self.pconv2(x, mask)\n",
    "        x = self.activation(x)\n",
    "        x, mask = self.pconv3(x, mask)\n",
    "        x = self.activation(x)\n",
    "        #x, mask = self.pconv4(x, mask)\n",
    "        z = self.gap(x)\n",
    "        z = z.reshape(-1,16*10)\n",
    "        z = self.activation(self.hidden1(z))\n",
    "        z = self.activation(self.hidden2(z))\n",
    "        #z = self.activation(self.hidden3(z))\n",
    "        fuera = self.output(z)\n",
    "        return fuera\n"
   ]
  },
  {
   "cell_type": "code",
   "execution_count": 86,
   "metadata": {},
   "outputs": [
    {
     "data": {
      "text/plain": [
       "MLP(\n",
       "  (pconv1): PartialConv(\n",
       "    (input_conv): Conv1d(2, 16, kernel_size=(3,), stride=(2,))\n",
       "    (mask_conv): Conv1d(1, 16, kernel_size=(3,), stride=(2,), bias=False)\n",
       "  )\n",
       "  (pconv2): PartialConv(\n",
       "    (input_conv): Conv1d(16, 16, kernel_size=(3,), stride=(2,))\n",
       "    (mask_conv): Conv1d(16, 16, kernel_size=(3,), stride=(2,), bias=False)\n",
       "  )\n",
       "  (pconv3): PartialConv(\n",
       "    (input_conv): Conv1d(16, 16, kernel_size=(3,), stride=(2,))\n",
       "    (mask_conv): Conv1d(16, 16, kernel_size=(3,), stride=(2,), bias=False)\n",
       "  )\n",
       "  (pool1): AvgPool1d(kernel_size=(3,), stride=(3,), padding=(0,))\n",
       "  (gap): AdaptiveMaxPool1d(output_size=10)\n",
       "  (hidden1): Linear(in_features=160, out_features=16, bias=True)\n",
       "  (hidden2): Linear(in_features=16, out_features=16, bias=True)\n",
       "  (output): Linear(in_features=16, out_features=5, bias=False)\n",
       "  (activation): ReLU()\n",
       ")"
      ]
     },
     "metadata": {},
     "output_type": "display_data"
    }
   ],
   "source": [
    "modelo = MLP()\n",
    "display(modelo)"
   ]
  },
  {
   "cell_type": "code",
   "execution_count": 87,
   "metadata": {},
   "outputs": [
    {
     "data": {
      "text/plain": [
       "4608"
      ]
     },
     "execution_count": 87,
     "metadata": {},
     "output_type": "execute_result"
    }
   ],
   "source": [
    "total_params = sum(p.numel() for p in modelo.parameters() if p.requires_grad)\n",
    "total_params"
   ]
  },
  {
   "cell_type": "markdown",
   "metadata": {},
   "source": [
    "#### BetaTesting-b4-Train"
   ]
  },
  {
   "cell_type": "code",
   "execution_count": 30,
   "metadata": {
    "collapsed": true
   },
   "outputs": [
    {
     "data": {
      "text/plain": [
       "torch.Size([32, 3, 335])"
      ]
     },
     "metadata": {},
     "output_type": "display_data"
    },
    {
     "ename": "ValueError",
     "evalue": "all the input array dimensions for the concatenation axis must match exactly, but along dimension 1, the array at index 0 has size 96 and the array at index 1 has size 239",
     "output_type": "error",
     "traceback": [
      "\u001b[0;31m---------------------------------------------------------------------------\u001b[0m",
      "\u001b[0;31mValueError\u001b[0m                                Traceback (most recent call last)",
      "\u001b[0;32m<ipython-input-30-ca0e7872bfa9>\u001b[0m in \u001b[0;36m<module>\u001b[0;34m\u001b[0m\n\u001b[1;32m     18\u001b[0m     \u001b[0mdata_aug\u001b[0m\u001b[0;34m[\u001b[0m\u001b[0;34m:\u001b[0m\u001b[0;34m,\u001b[0m\u001b[0;36m0\u001b[0m\u001b[0;34m]\u001b[0m\u001b[0;34m=\u001b[0m\u001b[0mdata\u001b[0m\u001b[0;34m[\u001b[0m\u001b[0;34m:\u001b[0m\u001b[0;34m,\u001b[0m\u001b[0;36m0\u001b[0m\u001b[0;34m]\u001b[0m\u001b[0;34m+\u001b[0m\u001b[0mtorch\u001b[0m\u001b[0;34m.\u001b[0m\u001b[0mrandn_like\u001b[0m\u001b[0;34m(\u001b[0m\u001b[0mdata\u001b[0m\u001b[0;34m[\u001b[0m\u001b[0;34m:\u001b[0m\u001b[0;34m,\u001b[0m\u001b[0;36m0\u001b[0m\u001b[0;34m]\u001b[0m\u001b[0;34m)\u001b[0m\u001b[0;34m*\u001b[0m\u001b[0mdata\u001b[0m\u001b[0;34m[\u001b[0m\u001b[0;34m:\u001b[0m\u001b[0;34m,\u001b[0m\u001b[0;36m1\u001b[0m\u001b[0;34m]\u001b[0m\u001b[0;34m\u001b[0m\u001b[0;34m\u001b[0m\u001b[0m\n\u001b[1;32m     19\u001b[0m \u001b[0;34m\u001b[0m\u001b[0m\n\u001b[0;32m---> 20\u001b[0;31m     \u001b[0mdata_rot\u001b[0m\u001b[0;34m[\u001b[0m\u001b[0;34m:\u001b[0m\u001b[0;34m,\u001b[0m\u001b[0;36m0\u001b[0m\u001b[0;34m]\u001b[0m\u001b[0;34m=\u001b[0m\u001b[0mnp\u001b[0m\u001b[0;34m.\u001b[0m\u001b[0mconcatenate\u001b[0m\u001b[0;34m(\u001b[0m\u001b[0;34m(\u001b[0m\u001b[0mdata\u001b[0m\u001b[0;34m[\u001b[0m\u001b[0;34m:\u001b[0m\u001b[0;34m,\u001b[0m\u001b[0;36m0\u001b[0m\u001b[0;34m,\u001b[0m\u001b[0mr\u001b[0m\u001b[0;34m:\u001b[0m\u001b[0;34m]\u001b[0m\u001b[0;34m,\u001b[0m\u001b[0mdata\u001b[0m\u001b[0;34m[\u001b[0m\u001b[0;34m:\u001b[0m\u001b[0;34m,\u001b[0m\u001b[0;36m1\u001b[0m\u001b[0;34m,\u001b[0m\u001b[0;34m:\u001b[0m\u001b[0mr\u001b[0m\u001b[0;34m]\u001b[0m\u001b[0;34m)\u001b[0m\u001b[0;34m,\u001b[0m\u001b[0maxis\u001b[0m\u001b[0;34m=\u001b[0m\u001b[0;36m0\u001b[0m\u001b[0;34m)\u001b[0m\u001b[0;34m\u001b[0m\u001b[0;34m\u001b[0m\u001b[0m\n\u001b[0m\u001b[1;32m     21\u001b[0m     \u001b[0mdata_rot\u001b[0m\u001b[0;34m[\u001b[0m\u001b[0;34m:\u001b[0m\u001b[0;34m,\u001b[0m\u001b[0;36m1\u001b[0m\u001b[0;34m]\u001b[0m\u001b[0;34m=\u001b[0m\u001b[0mnp\u001b[0m\u001b[0;34m.\u001b[0m\u001b[0mconcatenate\u001b[0m\u001b[0;34m(\u001b[0m\u001b[0;34m(\u001b[0m\u001b[0mdata\u001b[0m\u001b[0;34m[\u001b[0m\u001b[0;34m:\u001b[0m\u001b[0;34m,\u001b[0m\u001b[0;36m0\u001b[0m\u001b[0;34m,\u001b[0m\u001b[0mr\u001b[0m\u001b[0;34m:\u001b[0m\u001b[0;34m]\u001b[0m\u001b[0;34m,\u001b[0m\u001b[0mdata\u001b[0m\u001b[0;34m[\u001b[0m\u001b[0;34m:\u001b[0m\u001b[0;34m,\u001b[0m\u001b[0;36m1\u001b[0m\u001b[0;34m,\u001b[0m\u001b[0;34m:\u001b[0m\u001b[0mr\u001b[0m\u001b[0;34m]\u001b[0m\u001b[0;34m)\u001b[0m\u001b[0;34m,\u001b[0m\u001b[0maxis\u001b[0m\u001b[0;34m=\u001b[0m\u001b[0;36m0\u001b[0m\u001b[0;34m)\u001b[0m\u001b[0;34m\u001b[0m\u001b[0;34m\u001b[0m\u001b[0m\n\u001b[1;32m     22\u001b[0m     \"\"\"for i,(d,m) in enumerate(zip(data,mask)):\n",
      "\u001b[0;32m<__array_function__ internals>\u001b[0m in \u001b[0;36mconcatenate\u001b[0;34m(*args, **kwargs)\u001b[0m\n",
      "\u001b[0;31mValueError\u001b[0m: all the input array dimensions for the concatenation axis must match exactly, but along dimension 1, the array at index 0 has size 96 and the array at index 1 has size 239"
     ]
    }
   ],
   "source": [
    "use_gpu = False\n",
    "augmentation=5\n",
    "optimizer = torch.optim.Adam(modelo.parameters(), lr=0.0002)\n",
    "train_loader,test_loader = make_dataloaders(VVV_eqData, use_IDS=True, split=0.3)\n",
    "for batch in train_loader:\n",
    "    inputs, labels = batch['data'],batch['label']\n",
    "    #print(inputs.shape,labels.shape)\n",
    "    if use_gpu:\n",
    "        inputs, labels = inputs.cuda(), labels.cuda()\n",
    "    #optimizer.zero_grad()\n",
    "    r=np.random.randint(1,335)\n",
    "    new_inputs = torch.cat((inputs[:,:,r:],inputs[:,:,:r]),dim=2)\n",
    "    display(new_inputs.shape)\n",
    "    #data = inputs[:].unsqueeze(-1)\n",
    "    data,mask = inputs[:,:2],inputs[:,2].unsqueeze(-1)\n",
    "    #display(mask[0].shape)\n",
    "    data_aug,data_rot = data,data\n",
    "    data_aug[:,0]=data[:,0]+torch.randn_like(data[:,0])*data[:,1]\n",
    "   \n",
    "    data_rot[:,0]=np.concatenate((data[:,0,r:],data[:,1,:r]),axis=0)\n",
    "    data_rot[:,1]=np.concatenate((data[:,0,r:],data[:,1,:r]),axis=0)\n",
    "    \"\"\"for i,(d,m) in enumerate(zip(data,mask)):\n",
    "        n=sum(m[:]==1).item()\n",
    "        r=np.random.randint(n/2,n)\n",
    "        #print(m.shape,n,r)\n",
    "        mag,err,zeros=d[0,:n],d[1,:n],d[0,-(len(m)-n):]\n",
    "        #display(335-n,zeros.shape)\n",
    "        #mag,err y zeros son tensores\n",
    "        #display(mag,err,zeros)\n",
    "        new_mag = np.concatenate((mag[-r:],mag[:n-r],zeros),axis=0)\n",
    "        new_err = np.concatenate((err[-r:],err[:n-r],zeros),axis=0)\n",
    "        #display(n,r,mag,new_mag)\n",
    "        #break\n",
    "        data_rot[i,0]=torch.from_numpy(new_mag)\n",
    "        data_rot[i,1]=torch.from_numpy(new_err)\n",
    "        #display(data_rot[i,0],data_rot[i,1])\"\"\"\n",
    "    data_aug_rot = data_rot\n",
    "    data_aug_rot[:,0]=data_rot[:,0]+torch.randn_like(data_rot[:,0])*data_rot[:,1]\n",
    "    break\n",
    "    # ciclar phase entre [0,n/2] (n lineas reales sin mascara)\n",
    "    #display(data.shape,mask[:,:])\n",
    "    #display(mask.transpose(1,2).shape)\n",
    "\"\"\"\n",
    "for batch in train_loader:\n",
    "    inputs, labels = batch['data'],batch['label']\n",
    "    y_true=labels.numpy()\n",
    "    if use_gpu:\n",
    "        inputs, labels = inputs.cuda(), labels.cuda()\n",
    "    data,mask = inputs[:,:2],inputs[:,2].unsqueeze(-1)\n",
    "    #display(data.shape,mask.shape)\n",
    "    #data augmentation\n",
    "    data_aug = data\n",
    "    for i in range(augmentation):\n",
    "        if i!=0:\n",
    "            data_aug[:,0]=data[:,0]+torch.randn_like(data[:,0])*data[:,1]\n",
    "        #data_aug=data_aug.cuda()\n",
    "        optimizer.zero_grad()\n",
    "        outputs = modelo.forward(data_aug,mask,t=2)\n",
    "        # Accuracy\n",
    "        y_pred=outputs.detach().argmax(dim=1).numpy()\n",
    "        acc= sum(y_pred==y_true)/len(y_pred)*100\n",
    "        print(acc)\n",
    "        loss = criterion(outputs,labels)\n",
    "        #display(loss.item())\n",
    "        train_loss += loss.item()\n",
    "        loss.backward()\n",
    "        optimizer.step()\"\"\"\n",
    "    \n",
    "    #outputs=modelo.forward(data_aug,mask,t=2)\n",
    "    #print(outputs.shape,labels.shape)\n",
    "    #loss=criterion(outputs,labels)\n",
    "    #print(loss.item())\n",
    "    #break"
   ]
  },
  {
   "cell_type": "markdown",
   "metadata": {},
   "source": [
    "**Check GPU**"
   ]
  },
  {
   "cell_type": "code",
   "execution_count": 101,
   "metadata": {},
   "outputs": [
    {
     "data": {
      "text/plain": [
       "1"
      ]
     },
     "execution_count": 101,
     "metadata": {},
     "output_type": "execute_result"
    }
   ],
   "source": [
    "torch.cuda.current_device()"
   ]
  },
  {
   "cell_type": "code",
   "execution_count": 100,
   "metadata": {},
   "outputs": [],
   "source": [
    "torch.cuda.set_device('cuda:1')"
   ]
  },
  {
   "cell_type": "markdown",
   "metadata": {},
   "source": [
    "**Training Params**"
   ]
  },
  {
   "cell_type": "code",
   "execution_count": null,
   "metadata": {},
   "outputs": [],
   "source": [
    "n_epochs=1000\n",
    "epochs = range(n_epochs)\n",
    "use_gpu = True\n",
    "aug_alpha = 1\n",
    "rot_key = False\n",
    "best_valid = np.inf\n",
    "train_loss, valid_loss = 0.0, 0.0\n",
    "TL,VL,F1=list(),list(),list()\n",
    "ultima_mejora = 0\n",
    "#running_loss = np.zeros(shape=(n_epochs, 2))\n",
    "#augmentation = 4\n",
    "\n",
    "if use_gpu:\n",
    "    modelo = modelo.cuda()"
   ]
  },
  {
   "cell_type": "code",
   "execution_count": 34,
   "metadata": {},
   "outputs": [],
   "source": [
    "criterion = torch.nn.CrossEntropyLoss()"
   ]
  },
  {
   "cell_type": "code",
   "execution_count": null,
   "metadata": {},
   "outputs": [],
   "source": [
    "optimizer = torch.optim.Adam(modelo.parameters(), lr=0.0002)"
   ]
  },
  {
   "cell_type": "code",
   "execution_count": null,
   "metadata": {},
   "outputs": [],
   "source": [
    "comentario = \"pConv_mag&err_dataAugAlpha\"+str(aug_alpha)+\"_dataRot\"+str(rot_key)+\"_equalDataset\"+str(VVV_equalDataset.__len__())+\"_notInterpol_LR2e4_params\"+str(total_params)\n",
    "path = '/home/amorales/models/best_LC_model_'+comentario+'.pt'"
   ]
  },
  {
   "cell_type": "markdown",
   "metadata": {},
   "source": [
    "**Training**"
   ]
  },
  {
   "cell_type": "code",
   "execution_count": null,
   "metadata": {},
   "outputs": [],
   "source": [
    "train_loader.__len__()"
   ]
  },
  {
   "cell_type": "code",
   "execution_count": null,
   "metadata": {},
   "outputs": [],
   "source": [
    "print(\"empezamos...\")\n",
    "#from tqdm.notebook import tqdm\n",
    "fig, ax = plt.subplots(1, 2, figsize=(8.5, 4), tight_layout=False)\n",
    "\n",
    "for k in tqdm(epochs):\n",
    "    if k-ultima_mejora >=200:\n",
    "        print(\"Hace al menos 200 épocas NO estoy generalizando correctamente :/ \\n fix me!\")\n",
    "        break\n",
    "    train_loss, valid_loss,f1_acum = 0.0, 0.0, 0.0\n",
    "    # Loop de entrenamiento\n",
    "    for batch in train_loader:\n",
    "        inputs, labels = batch['data'],batch['label']\n",
    "        if use_gpu:\n",
    "            inputs, labels = inputs.cuda(), labels.cuda()\n",
    "        data,mask = inputs[:,:2],inputs[:,2].unsqueeze(-1)\n",
    "        #data augmentation\n",
    "        if rot_key:\n",
    "            r=np.random.randint(5,100)\n",
    "            inputs = torch.cat((inputs[:,:,r:],inputs[:,:,:r]),dim=2)\n",
    "        data[:,0]=data[:,0]+torch.randn_like(data[:,0])*data[:,1]*aug_alpha  \n",
    "        \n",
    "        optimizer.zero_grad()\n",
    "        outputs = modelo.forward(data,mask,t=2)\n",
    "        loss = criterion(outputs,labels)\n",
    "        train_loss += loss.item()\n",
    "        loss.backward()\n",
    "        optimizer.step()\n",
    "        \n",
    "    TL.append(train_loss/train_loader.__len__()) \n",
    "    \n",
    "    # VALIDACION \n",
    "    for data in test_loader:\n",
    "        sample_data, sample_label = data['data'],data['label']\n",
    "        #sample_label = sample_label.squeeze(1)\n",
    "        y_true=sample_label.numpy()\n",
    "\n",
    "        if use_gpu:\n",
    "            sample_data, sample_label = sample_data.cuda(), sample_label.cuda()\n",
    "        data,mask = sample_data[:,:2],sample_data[:,2].unsqueeze(-1)\n",
    "        #display(data.shape, a.shape)\n",
    "        outputs = modelo.forward(data,mask,t=2)\n",
    "        # F1 score\n",
    "        y_pred=outputs.cpu().detach().argmax(dim=1).numpy()\n",
    "        f1_acum += f1_score(y_true, y_pred, average='weighted')\n",
    "        loss = criterion(outputs,sample_label)\n",
    "        valid_loss += loss.item()\n",
    "        # save best model\n",
    "    if valid_loss < best_valid:\n",
    "        ultima_mejora = k+1\n",
    "        print(\"vamos mejorando :) epoch=\",k+1)\n",
    "        best_valid = valid_loss\n",
    "        torch.save({'epoca': k,\n",
    "                    'f1_score': f1_acum/test_loader.__len__(),\n",
    "                    'model_state_dict': modelo.state_dict(),\n",
    "                    'optimizer_state_dict': optimizer.state_dict(),\n",
    "                    'Valid_loss': valid_loss/test_loader.__len__()}, path)\n",
    "    VL.append(valid_loss/test_loader.__len__())\n",
    "    F1.append(f1_acum/test_loader.__len__())\n",
    "    update_plot(ax,TL,VL,F1)\n",
    "\n",
    "       \n",
    "# Retornar modelo a la CPU\n",
    "if use_gpu:\n",
    "    modelo = modelo.cpu()\n",
    "    print(\"fin\")"
   ]
  },
  {
   "cell_type": "markdown",
   "metadata": {},
   "source": [
    "### Eval. Desempeño"
   ]
  },
  {
   "cell_type": "code",
   "execution_count": null,
   "metadata": {},
   "outputs": [],
   "source": [
    "def update_plot(ax,TL,VL,F1):\n",
    "    #global modelo \n",
    "    [ax_.cla() for ax_ in ax]\n",
    "    ax[0].plot(range(len(TL)), TL, lw=2, label='Train')\n",
    "    ax[0].plot(range(len(VL)), VL, lw=2, label='Valid')\n",
    "    ax[1].plot(range(len(F1)), F1, lw=2, label='F1 score')\n",
    "    [ax_.grid() for ax_ in ax]\n",
    "    [ax_.legend() for ax_ in ax]\n",
    "    fig.canvas.draw()\n",
    "    fig.canvas.flush_events()"
   ]
  },
  {
   "cell_type": "code",
   "execution_count": null,
   "metadata": {},
   "outputs": [],
   "source": [
    "display(min(TL), min(VL), F1[ultima_mejora])"
   ]
  },
  {
   "cell_type": "markdown",
   "metadata": {},
   "source": [
    "**Matriz de Confusion**"
   ]
  },
  {
   "cell_type": "code",
   "execution_count": null,
   "metadata": {},
   "outputs": [],
   "source": [
    "besto = MLP()\n",
    "PATH = '/home/amorales/models/best_LCC_model_dataRot0_Alpha1_sampleo4.pt'\n",
    "besto.load_state_dict(torch.load(PATH)['model_state_dict'])"
   ]
  },
  {
   "cell_type": "code",
   "execution_count": null,
   "metadata": {},
   "outputs": [],
   "source": [
    "# MODIFICAR\n",
    "#y_true = [best_of_best[i]['label'].item() for i in range(len(best_of_best))]\n",
    "#y_true = [VVV[i]['label'].item() for i in valid_idx]\n",
    "\n",
    "prediction_test = []\n",
    "labels_test=[]\n",
    "for data in test_loader:\n",
    "    inputs, labels = data['data'],data['label']\n",
    "    data,mask = inputs[:,:2],inputs[:,2].unsqueeze(-1)\n",
    "    labels_test.append(labels.detach().numpy())\n",
    "    outputs = besto.forward(data,mask,t=2)\n",
    "    #logits = modelo.forward(sample_data)\n",
    "    #print(outputs)\n",
    "    prediction_test.append(outputs.detach().argmax(dim=1).numpy())\n",
    "y_true = np.concatenate(labels_test)\n",
    "y_pred = np.concatenate(prediction_test)\n",
    "print(y_pred.__len__()/5)\n",
    "cm = confusion_matrix(y_true, y_pred)\n",
    "display(cm)\n",
    "\n",
    "print(classification_report(y_true, y_pred))"
   ]
  },
  {
   "cell_type": "markdown",
   "metadata": {},
   "source": [
    "### Comparación entre distintos Modelos\n",
    "Historial Matrices de Confusion [https://docs.google.com/spreadsheets/d/1j9kseGSx1WQvkb1C4nDL5J-lweuH3VyPsrAT50E1D6w/edit#gid=0]"
   ]
  },
  {
   "cell_type": "code",
   "execution_count": 102,
   "metadata": {},
   "outputs": [],
   "source": [
    "def training(modelo, criterion, lr,wd,epochs, use_gpu, train_loader, test_loader,path,ax,topf1_logs):\n",
    "    optimizer = torch.optim.Adam(modelo.parameters(), lr=lr,weight_decay=wd)\n",
    "    ultima_mejora = 0\n",
    "    best_valid = np.inf\n",
    "    TL,VL,F1=list(),list(),list()\n",
    "\n",
    "    for k in tqdm(epochs):\n",
    "        if k-ultima_mejora >=300:\n",
    "            print(\"Hace al menos 300 épocas NO disminuye Valid Loss. Best F1=\",best_f1)\n",
    "            break\n",
    "        train_loss, valid_loss,f1_acum = 0.0, 0.0, 0.0\n",
    "        # Loop de entrenamiento\n",
    "        for batch in train_loader:\n",
    "            inputs, labels = batch['data'],batch['label']\n",
    "            if use_gpu:\n",
    "                inputs, labels = inputs.cuda(), labels.cuda()\n",
    "            data,mask = inputs[:,:2],inputs[:,2].unsqueeze(-1)\n",
    "            #data augmentation\n",
    "            if rot_key:\n",
    "                r=np.random.randint(5,100)\n",
    "                inputs = torch.cat((inputs[:,:,r:],inputs[:,:,:r]),dim=2)\n",
    "            data[:,0]=data[:,0]+torch.randn_like(data[:,0])*data[:,1]*alpha  \n",
    "\n",
    "            optimizer.zero_grad()\n",
    "            outputs = modelo.forward(data,mask,t=2)\n",
    "            loss = criterion(outputs,labels)\n",
    "            train_loss += loss.item()\n",
    "            loss.backward()\n",
    "            optimizer.step()\n",
    "\n",
    "        TL.append(train_loss/train_loader.__len__()) \n",
    "\n",
    "        # VALIDACION \n",
    "        for data in test_loader:\n",
    "            sample_data, sample_label = data['data'],data['label']\n",
    "            #sample_label = sample_label.squeeze(1)\n",
    "            y_true=sample_label.numpy()\n",
    "\n",
    "            if use_gpu:\n",
    "                sample_data, sample_label = sample_data.cuda(), sample_label.cuda()\n",
    "            data,mask = sample_data[:,:2],sample_data[:,2].unsqueeze(-1)\n",
    "            #display(data.shape, a.shape)\n",
    "            outputs = modelo.forward(data,mask,t=2)\n",
    "            # F1 score\n",
    "            y_pred=outputs.cpu().detach().argmax(dim=1).numpy()\n",
    "            f1_acum += f1_score(y_true, y_pred, average='weighted')\n",
    "            loss = criterion(outputs,sample_label)\n",
    "            valid_loss += loss.item()\n",
    "            # save best model\n",
    "        if valid_loss < best_valid:\n",
    "            ultima_mejora = k+1\n",
    "            #print(\"vamos mejorando :) epoch=\",k+1)\n",
    "            best_valid = valid_loss\n",
    "            best_f1 = f1_acum/test_loader.__len__()\n",
    "            torch.save({'epoca': k,\n",
    "                        'f1_score': best_f1,\n",
    "                        'model_state_dict': modelo.state_dict(),\n",
    "                        'optimizer_state_dict': optimizer.state_dict(),\n",
    "                        'Valid_loss': valid_loss/test_loader.__len__()}, path)\n",
    "        VL.append(valid_loss/test_loader.__len__())\n",
    "        F1.append(f1_acum/test_loader.__len__())\n",
    "        update_plot(ax,TL,VL,F1,ultima_mejora,best_f1,topf1_logs)\n",
    "\n",
    "    # Retornar modelo a la CPU\n",
    "    if use_gpu:\n",
    "        modelo = modelo.cpu()\n",
    "        #print(\"ok\")\n",
    "    return best_f1"
   ]
  },
  {
   "cell_type": "code",
   "execution_count": 103,
   "metadata": {},
   "outputs": [],
   "source": [
    "def update_plot(ax,TL,VL,F1,last_ep,best_f1,topf1_logs):\n",
    "    #global comentario\n",
    "    titulo=\"Current Training. Rot=\"+str(bool(rot_key))+\", Alpha=\"+str(alpha)+\", Sample=\"+str(s)\n",
    "    [ax_.cla() for ax_ in ax]\n",
    "    ax[0].plot(range(len(TL)), TL, lw=2, label='Train')\n",
    "    ax[0].plot(range(len(VL)), VL, lw=2, label='Valid')\n",
    "    ax[0].axvline(last_ep, 'r--',lw=1,label=\"Last improve\")\n",
    "    ax[0].plot(range(len(VL)),np.full_like(VL,min(VL)),'r--',lw=1, label='best VL')\n",
    "    ax[1].plot(range(len(F1)), F1, lw=2, label='F1 score')\n",
    "    if len(topf1_logs)==0:\n",
    "        # plot topf1 actual\n",
    "        ax[1].plot(range(len(F1)),np.full_like(F1,best_f1),'r--',lw=1, label='top F1')\n",
    "        \n",
    "    else:\n",
    "        # plot topf1 mean\n",
    "        ax[1].plot(range(len(F1)),np.full_like(F1,best_f1),'g--',lw=1, label='top F1')\n",
    "        ax[1].plot(range(len(F1)),np.full_like(F1,np.mean(topf1_logs)),'r--',lw=1, label='mean F1')\n",
    "    [ax_.set_xlabel('Epochs') for ax_ in ax]\n",
    "    [ax_.grid() for ax_ in ax]\n",
    "    [ax_.legend() for ax_ in ax]\n",
    "    fig.suptitle(titulo)\n",
    "    fig.canvas.draw()\n",
    "    fig.canvas.flush_events()"
   ]
  },
  {
   "cell_type": "code",
   "execution_count": 95,
   "metadata": {},
   "outputs": [],
   "source": [
    "# Parametros generales\n",
    "n_epochs=10000\n",
    "lr=0.0002\n",
    "wd=0\n",
    "criterion = torch.nn.CrossEntropyLoss()\n",
    "epochs = range(n_epochs)\n",
    "use_gpu = True\n",
    "use_IDS = True\n",
    "semilla=420\n",
    "# fijar semilla\n",
    "rs=RandomState(semilla)\n",
    "split,train_size,test_size=0.3,32,128"
   ]
  },
  {
   "cell_type": "code",
   "execution_count": 104,
   "metadata": {
    "scrolled": false
   },
   "outputs": [
    {
     "data": {
      "application/javascript": [
       "/* Put everything inside the global mpl namespace */\n",
       "window.mpl = {};\n",
       "\n",
       "\n",
       "mpl.get_websocket_type = function() {\n",
       "    if (typeof(WebSocket) !== 'undefined') {\n",
       "        return WebSocket;\n",
       "    } else if (typeof(MozWebSocket) !== 'undefined') {\n",
       "        return MozWebSocket;\n",
       "    } else {\n",
       "        alert('Your browser does not have WebSocket support. ' +\n",
       "              'Please try Chrome, Safari or Firefox ≥ 6. ' +\n",
       "              'Firefox 4 and 5 are also supported but you ' +\n",
       "              'have to enable WebSockets in about:config.');\n",
       "    };\n",
       "}\n",
       "\n",
       "mpl.figure = function(figure_id, websocket, ondownload, parent_element) {\n",
       "    this.id = figure_id;\n",
       "\n",
       "    this.ws = websocket;\n",
       "\n",
       "    this.supports_binary = (this.ws.binaryType != undefined);\n",
       "\n",
       "    if (!this.supports_binary) {\n",
       "        var warnings = document.getElementById(\"mpl-warnings\");\n",
       "        if (warnings) {\n",
       "            warnings.style.display = 'block';\n",
       "            warnings.textContent = (\n",
       "                \"This browser does not support binary websocket messages. \" +\n",
       "                    \"Performance may be slow.\");\n",
       "        }\n",
       "    }\n",
       "\n",
       "    this.imageObj = new Image();\n",
       "\n",
       "    this.context = undefined;\n",
       "    this.message = undefined;\n",
       "    this.canvas = undefined;\n",
       "    this.rubberband_canvas = undefined;\n",
       "    this.rubberband_context = undefined;\n",
       "    this.format_dropdown = undefined;\n",
       "\n",
       "    this.image_mode = 'full';\n",
       "\n",
       "    this.root = $('<div/>');\n",
       "    this._root_extra_style(this.root)\n",
       "    this.root.attr('style', 'display: inline-block');\n",
       "\n",
       "    $(parent_element).append(this.root);\n",
       "\n",
       "    this._init_header(this);\n",
       "    this._init_canvas(this);\n",
       "    this._init_toolbar(this);\n",
       "\n",
       "    var fig = this;\n",
       "\n",
       "    this.waiting = false;\n",
       "\n",
       "    this.ws.onopen =  function () {\n",
       "            fig.send_message(\"supports_binary\", {value: fig.supports_binary});\n",
       "            fig.send_message(\"send_image_mode\", {});\n",
       "            if (mpl.ratio != 1) {\n",
       "                fig.send_message(\"set_dpi_ratio\", {'dpi_ratio': mpl.ratio});\n",
       "            }\n",
       "            fig.send_message(\"refresh\", {});\n",
       "        }\n",
       "\n",
       "    this.imageObj.onload = function() {\n",
       "            if (fig.image_mode == 'full') {\n",
       "                // Full images could contain transparency (where diff images\n",
       "                // almost always do), so we need to clear the canvas so that\n",
       "                // there is no ghosting.\n",
       "                fig.context.clearRect(0, 0, fig.canvas.width, fig.canvas.height);\n",
       "            }\n",
       "            fig.context.drawImage(fig.imageObj, 0, 0);\n",
       "        };\n",
       "\n",
       "    this.imageObj.onunload = function() {\n",
       "        fig.ws.close();\n",
       "    }\n",
       "\n",
       "    this.ws.onmessage = this._make_on_message_function(this);\n",
       "\n",
       "    this.ondownload = ondownload;\n",
       "}\n",
       "\n",
       "mpl.figure.prototype._init_header = function() {\n",
       "    var titlebar = $(\n",
       "        '<div class=\"ui-dialog-titlebar ui-widget-header ui-corner-all ' +\n",
       "        'ui-helper-clearfix\"/>');\n",
       "    var titletext = $(\n",
       "        '<div class=\"ui-dialog-title\" style=\"width: 100%; ' +\n",
       "        'text-align: center; padding: 3px;\"/>');\n",
       "    titlebar.append(titletext)\n",
       "    this.root.append(titlebar);\n",
       "    this.header = titletext[0];\n",
       "}\n",
       "\n",
       "\n",
       "\n",
       "mpl.figure.prototype._canvas_extra_style = function(canvas_div) {\n",
       "\n",
       "}\n",
       "\n",
       "\n",
       "mpl.figure.prototype._root_extra_style = function(canvas_div) {\n",
       "\n",
       "}\n",
       "\n",
       "mpl.figure.prototype._init_canvas = function() {\n",
       "    var fig = this;\n",
       "\n",
       "    var canvas_div = $('<div/>');\n",
       "\n",
       "    canvas_div.attr('style', 'position: relative; clear: both; outline: 0');\n",
       "\n",
       "    function canvas_keyboard_event(event) {\n",
       "        return fig.key_event(event, event['data']);\n",
       "    }\n",
       "\n",
       "    canvas_div.keydown('key_press', canvas_keyboard_event);\n",
       "    canvas_div.keyup('key_release', canvas_keyboard_event);\n",
       "    this.canvas_div = canvas_div\n",
       "    this._canvas_extra_style(canvas_div)\n",
       "    this.root.append(canvas_div);\n",
       "\n",
       "    var canvas = $('<canvas/>');\n",
       "    canvas.addClass('mpl-canvas');\n",
       "    canvas.attr('style', \"left: 0; top: 0; z-index: 0; outline: 0\")\n",
       "\n",
       "    this.canvas = canvas[0];\n",
       "    this.context = canvas[0].getContext(\"2d\");\n",
       "\n",
       "    var backingStore = this.context.backingStorePixelRatio ||\n",
       "\tthis.context.webkitBackingStorePixelRatio ||\n",
       "\tthis.context.mozBackingStorePixelRatio ||\n",
       "\tthis.context.msBackingStorePixelRatio ||\n",
       "\tthis.context.oBackingStorePixelRatio ||\n",
       "\tthis.context.backingStorePixelRatio || 1;\n",
       "\n",
       "    mpl.ratio = (window.devicePixelRatio || 1) / backingStore;\n",
       "\n",
       "    var rubberband = $('<canvas/>');\n",
       "    rubberband.attr('style', \"position: absolute; left: 0; top: 0; z-index: 1;\")\n",
       "\n",
       "    var pass_mouse_events = true;\n",
       "\n",
       "    canvas_div.resizable({\n",
       "        start: function(event, ui) {\n",
       "            pass_mouse_events = false;\n",
       "        },\n",
       "        resize: function(event, ui) {\n",
       "            fig.request_resize(ui.size.width, ui.size.height);\n",
       "        },\n",
       "        stop: function(event, ui) {\n",
       "            pass_mouse_events = true;\n",
       "            fig.request_resize(ui.size.width, ui.size.height);\n",
       "        },\n",
       "    });\n",
       "\n",
       "    function mouse_event_fn(event) {\n",
       "        if (pass_mouse_events)\n",
       "            return fig.mouse_event(event, event['data']);\n",
       "    }\n",
       "\n",
       "    rubberband.mousedown('button_press', mouse_event_fn);\n",
       "    rubberband.mouseup('button_release', mouse_event_fn);\n",
       "    // Throttle sequential mouse events to 1 every 20ms.\n",
       "    rubberband.mousemove('motion_notify', mouse_event_fn);\n",
       "\n",
       "    rubberband.mouseenter('figure_enter', mouse_event_fn);\n",
       "    rubberband.mouseleave('figure_leave', mouse_event_fn);\n",
       "\n",
       "    canvas_div.on(\"wheel\", function (event) {\n",
       "        event = event.originalEvent;\n",
       "        event['data'] = 'scroll'\n",
       "        if (event.deltaY < 0) {\n",
       "            event.step = 1;\n",
       "        } else {\n",
       "            event.step = -1;\n",
       "        }\n",
       "        mouse_event_fn(event);\n",
       "    });\n",
       "\n",
       "    canvas_div.append(canvas);\n",
       "    canvas_div.append(rubberband);\n",
       "\n",
       "    this.rubberband = rubberband;\n",
       "    this.rubberband_canvas = rubberband[0];\n",
       "    this.rubberband_context = rubberband[0].getContext(\"2d\");\n",
       "    this.rubberband_context.strokeStyle = \"#000000\";\n",
       "\n",
       "    this._resize_canvas = function(width, height) {\n",
       "        // Keep the size of the canvas, canvas container, and rubber band\n",
       "        // canvas in synch.\n",
       "        canvas_div.css('width', width)\n",
       "        canvas_div.css('height', height)\n",
       "\n",
       "        canvas.attr('width', width * mpl.ratio);\n",
       "        canvas.attr('height', height * mpl.ratio);\n",
       "        canvas.attr('style', 'width: ' + width + 'px; height: ' + height + 'px;');\n",
       "\n",
       "        rubberband.attr('width', width);\n",
       "        rubberband.attr('height', height);\n",
       "    }\n",
       "\n",
       "    // Set the figure to an initial 600x600px, this will subsequently be updated\n",
       "    // upon first draw.\n",
       "    this._resize_canvas(600, 600);\n",
       "\n",
       "    // Disable right mouse context menu.\n",
       "    $(this.rubberband_canvas).bind(\"contextmenu\",function(e){\n",
       "        return false;\n",
       "    });\n",
       "\n",
       "    function set_focus () {\n",
       "        canvas.focus();\n",
       "        canvas_div.focus();\n",
       "    }\n",
       "\n",
       "    window.setTimeout(set_focus, 100);\n",
       "}\n",
       "\n",
       "mpl.figure.prototype._init_toolbar = function() {\n",
       "    var fig = this;\n",
       "\n",
       "    var nav_element = $('<div/>');\n",
       "    nav_element.attr('style', 'width: 100%');\n",
       "    this.root.append(nav_element);\n",
       "\n",
       "    // Define a callback function for later on.\n",
       "    function toolbar_event(event) {\n",
       "        return fig.toolbar_button_onclick(event['data']);\n",
       "    }\n",
       "    function toolbar_mouse_event(event) {\n",
       "        return fig.toolbar_button_onmouseover(event['data']);\n",
       "    }\n",
       "\n",
       "    for(var toolbar_ind in mpl.toolbar_items) {\n",
       "        var name = mpl.toolbar_items[toolbar_ind][0];\n",
       "        var tooltip = mpl.toolbar_items[toolbar_ind][1];\n",
       "        var image = mpl.toolbar_items[toolbar_ind][2];\n",
       "        var method_name = mpl.toolbar_items[toolbar_ind][3];\n",
       "\n",
       "        if (!name) {\n",
       "            // put a spacer in here.\n",
       "            continue;\n",
       "        }\n",
       "        var button = $('<button/>');\n",
       "        button.addClass('ui-button ui-widget ui-state-default ui-corner-all ' +\n",
       "                        'ui-button-icon-only');\n",
       "        button.attr('role', 'button');\n",
       "        button.attr('aria-disabled', 'false');\n",
       "        button.click(method_name, toolbar_event);\n",
       "        button.mouseover(tooltip, toolbar_mouse_event);\n",
       "\n",
       "        var icon_img = $('<span/>');\n",
       "        icon_img.addClass('ui-button-icon-primary ui-icon');\n",
       "        icon_img.addClass(image);\n",
       "        icon_img.addClass('ui-corner-all');\n",
       "\n",
       "        var tooltip_span = $('<span/>');\n",
       "        tooltip_span.addClass('ui-button-text');\n",
       "        tooltip_span.html(tooltip);\n",
       "\n",
       "        button.append(icon_img);\n",
       "        button.append(tooltip_span);\n",
       "\n",
       "        nav_element.append(button);\n",
       "    }\n",
       "\n",
       "    var fmt_picker_span = $('<span/>');\n",
       "\n",
       "    var fmt_picker = $('<select/>');\n",
       "    fmt_picker.addClass('mpl-toolbar-option ui-widget ui-widget-content');\n",
       "    fmt_picker_span.append(fmt_picker);\n",
       "    nav_element.append(fmt_picker_span);\n",
       "    this.format_dropdown = fmt_picker[0];\n",
       "\n",
       "    for (var ind in mpl.extensions) {\n",
       "        var fmt = mpl.extensions[ind];\n",
       "        var option = $(\n",
       "            '<option/>', {selected: fmt === mpl.default_extension}).html(fmt);\n",
       "        fmt_picker.append(option);\n",
       "    }\n",
       "\n",
       "    // Add hover states to the ui-buttons\n",
       "    $( \".ui-button\" ).hover(\n",
       "        function() { $(this).addClass(\"ui-state-hover\");},\n",
       "        function() { $(this).removeClass(\"ui-state-hover\");}\n",
       "    );\n",
       "\n",
       "    var status_bar = $('<span class=\"mpl-message\"/>');\n",
       "    nav_element.append(status_bar);\n",
       "    this.message = status_bar[0];\n",
       "}\n",
       "\n",
       "mpl.figure.prototype.request_resize = function(x_pixels, y_pixels) {\n",
       "    // Request matplotlib to resize the figure. Matplotlib will then trigger a resize in the client,\n",
       "    // which will in turn request a refresh of the image.\n",
       "    this.send_message('resize', {'width': x_pixels, 'height': y_pixels});\n",
       "}\n",
       "\n",
       "mpl.figure.prototype.send_message = function(type, properties) {\n",
       "    properties['type'] = type;\n",
       "    properties['figure_id'] = this.id;\n",
       "    this.ws.send(JSON.stringify(properties));\n",
       "}\n",
       "\n",
       "mpl.figure.prototype.send_draw_message = function() {\n",
       "    if (!this.waiting) {\n",
       "        this.waiting = true;\n",
       "        this.ws.send(JSON.stringify({type: \"draw\", figure_id: this.id}));\n",
       "    }\n",
       "}\n",
       "\n",
       "\n",
       "mpl.figure.prototype.handle_save = function(fig, msg) {\n",
       "    var format_dropdown = fig.format_dropdown;\n",
       "    var format = format_dropdown.options[format_dropdown.selectedIndex].value;\n",
       "    fig.ondownload(fig, format);\n",
       "}\n",
       "\n",
       "\n",
       "mpl.figure.prototype.handle_resize = function(fig, msg) {\n",
       "    var size = msg['size'];\n",
       "    if (size[0] != fig.canvas.width || size[1] != fig.canvas.height) {\n",
       "        fig._resize_canvas(size[0], size[1]);\n",
       "        fig.send_message(\"refresh\", {});\n",
       "    };\n",
       "}\n",
       "\n",
       "mpl.figure.prototype.handle_rubberband = function(fig, msg) {\n",
       "    var x0 = msg['x0'] / mpl.ratio;\n",
       "    var y0 = (fig.canvas.height - msg['y0']) / mpl.ratio;\n",
       "    var x1 = msg['x1'] / mpl.ratio;\n",
       "    var y1 = (fig.canvas.height - msg['y1']) / mpl.ratio;\n",
       "    x0 = Math.floor(x0) + 0.5;\n",
       "    y0 = Math.floor(y0) + 0.5;\n",
       "    x1 = Math.floor(x1) + 0.5;\n",
       "    y1 = Math.floor(y1) + 0.5;\n",
       "    var min_x = Math.min(x0, x1);\n",
       "    var min_y = Math.min(y0, y1);\n",
       "    var width = Math.abs(x1 - x0);\n",
       "    var height = Math.abs(y1 - y0);\n",
       "\n",
       "    fig.rubberband_context.clearRect(\n",
       "        0, 0, fig.canvas.width / mpl.ratio, fig.canvas.height / mpl.ratio);\n",
       "\n",
       "    fig.rubberband_context.strokeRect(min_x, min_y, width, height);\n",
       "}\n",
       "\n",
       "mpl.figure.prototype.handle_figure_label = function(fig, msg) {\n",
       "    // Updates the figure title.\n",
       "    fig.header.textContent = msg['label'];\n",
       "}\n",
       "\n",
       "mpl.figure.prototype.handle_cursor = function(fig, msg) {\n",
       "    var cursor = msg['cursor'];\n",
       "    switch(cursor)\n",
       "    {\n",
       "    case 0:\n",
       "        cursor = 'pointer';\n",
       "        break;\n",
       "    case 1:\n",
       "        cursor = 'default';\n",
       "        break;\n",
       "    case 2:\n",
       "        cursor = 'crosshair';\n",
       "        break;\n",
       "    case 3:\n",
       "        cursor = 'move';\n",
       "        break;\n",
       "    }\n",
       "    fig.rubberband_canvas.style.cursor = cursor;\n",
       "}\n",
       "\n",
       "mpl.figure.prototype.handle_message = function(fig, msg) {\n",
       "    fig.message.textContent = msg['message'];\n",
       "}\n",
       "\n",
       "mpl.figure.prototype.handle_draw = function(fig, msg) {\n",
       "    // Request the server to send over a new figure.\n",
       "    fig.send_draw_message();\n",
       "}\n",
       "\n",
       "mpl.figure.prototype.handle_image_mode = function(fig, msg) {\n",
       "    fig.image_mode = msg['mode'];\n",
       "}\n",
       "\n",
       "mpl.figure.prototype.updated_canvas_event = function() {\n",
       "    // Called whenever the canvas gets updated.\n",
       "    this.send_message(\"ack\", {});\n",
       "}\n",
       "\n",
       "// A function to construct a web socket function for onmessage handling.\n",
       "// Called in the figure constructor.\n",
       "mpl.figure.prototype._make_on_message_function = function(fig) {\n",
       "    return function socket_on_message(evt) {\n",
       "        if (evt.data instanceof Blob) {\n",
       "            /* FIXME: We get \"Resource interpreted as Image but\n",
       "             * transferred with MIME type text/plain:\" errors on\n",
       "             * Chrome.  But how to set the MIME type?  It doesn't seem\n",
       "             * to be part of the websocket stream */\n",
       "            evt.data.type = \"image/png\";\n",
       "\n",
       "            /* Free the memory for the previous frames */\n",
       "            if (fig.imageObj.src) {\n",
       "                (window.URL || window.webkitURL).revokeObjectURL(\n",
       "                    fig.imageObj.src);\n",
       "            }\n",
       "\n",
       "            fig.imageObj.src = (window.URL || window.webkitURL).createObjectURL(\n",
       "                evt.data);\n",
       "            fig.updated_canvas_event();\n",
       "            fig.waiting = false;\n",
       "            return;\n",
       "        }\n",
       "        else if (typeof evt.data === 'string' && evt.data.slice(0, 21) == \"data:image/png;base64\") {\n",
       "            fig.imageObj.src = evt.data;\n",
       "            fig.updated_canvas_event();\n",
       "            fig.waiting = false;\n",
       "            return;\n",
       "        }\n",
       "\n",
       "        var msg = JSON.parse(evt.data);\n",
       "        var msg_type = msg['type'];\n",
       "\n",
       "        // Call the  \"handle_{type}\" callback, which takes\n",
       "        // the figure and JSON message as its only arguments.\n",
       "        try {\n",
       "            var callback = fig[\"handle_\" + msg_type];\n",
       "        } catch (e) {\n",
       "            console.log(\"No handler for the '\" + msg_type + \"' message type: \", msg);\n",
       "            return;\n",
       "        }\n",
       "\n",
       "        if (callback) {\n",
       "            try {\n",
       "                // console.log(\"Handling '\" + msg_type + \"' message: \", msg);\n",
       "                callback(fig, msg);\n",
       "            } catch (e) {\n",
       "                console.log(\"Exception inside the 'handler_\" + msg_type + \"' callback:\", e, e.stack, msg);\n",
       "            }\n",
       "        }\n",
       "    };\n",
       "}\n",
       "\n",
       "// from http://stackoverflow.com/questions/1114465/getting-mouse-location-in-canvas\n",
       "mpl.findpos = function(e) {\n",
       "    //this section is from http://www.quirksmode.org/js/events_properties.html\n",
       "    var targ;\n",
       "    if (!e)\n",
       "        e = window.event;\n",
       "    if (e.target)\n",
       "        targ = e.target;\n",
       "    else if (e.srcElement)\n",
       "        targ = e.srcElement;\n",
       "    if (targ.nodeType == 3) // defeat Safari bug\n",
       "        targ = targ.parentNode;\n",
       "\n",
       "    // jQuery normalizes the pageX and pageY\n",
       "    // pageX,Y are the mouse positions relative to the document\n",
       "    // offset() returns the position of the element relative to the document\n",
       "    var x = e.pageX - $(targ).offset().left;\n",
       "    var y = e.pageY - $(targ).offset().top;\n",
       "\n",
       "    return {\"x\": x, \"y\": y};\n",
       "};\n",
       "\n",
       "/*\n",
       " * return a copy of an object with only non-object keys\n",
       " * we need this to avoid circular references\n",
       " * http://stackoverflow.com/a/24161582/3208463\n",
       " */\n",
       "function simpleKeys (original) {\n",
       "  return Object.keys(original).reduce(function (obj, key) {\n",
       "    if (typeof original[key] !== 'object')\n",
       "        obj[key] = original[key]\n",
       "    return obj;\n",
       "  }, {});\n",
       "}\n",
       "\n",
       "mpl.figure.prototype.mouse_event = function(event, name) {\n",
       "    var canvas_pos = mpl.findpos(event)\n",
       "\n",
       "    if (name === 'button_press')\n",
       "    {\n",
       "        this.canvas.focus();\n",
       "        this.canvas_div.focus();\n",
       "    }\n",
       "\n",
       "    var x = canvas_pos.x * mpl.ratio;\n",
       "    var y = canvas_pos.y * mpl.ratio;\n",
       "\n",
       "    this.send_message(name, {x: x, y: y, button: event.button,\n",
       "                             step: event.step,\n",
       "                             guiEvent: simpleKeys(event)});\n",
       "\n",
       "    /* This prevents the web browser from automatically changing to\n",
       "     * the text insertion cursor when the button is pressed.  We want\n",
       "     * to control all of the cursor setting manually through the\n",
       "     * 'cursor' event from matplotlib */\n",
       "    event.preventDefault();\n",
       "    return false;\n",
       "}\n",
       "\n",
       "mpl.figure.prototype._key_event_extra = function(event, name) {\n",
       "    // Handle any extra behaviour associated with a key event\n",
       "}\n",
       "\n",
       "mpl.figure.prototype.key_event = function(event, name) {\n",
       "\n",
       "    // Prevent repeat events\n",
       "    if (name == 'key_press')\n",
       "    {\n",
       "        if (event.which === this._key)\n",
       "            return;\n",
       "        else\n",
       "            this._key = event.which;\n",
       "    }\n",
       "    if (name == 'key_release')\n",
       "        this._key = null;\n",
       "\n",
       "    var value = '';\n",
       "    if (event.ctrlKey && event.which != 17)\n",
       "        value += \"ctrl+\";\n",
       "    if (event.altKey && event.which != 18)\n",
       "        value += \"alt+\";\n",
       "    if (event.shiftKey && event.which != 16)\n",
       "        value += \"shift+\";\n",
       "\n",
       "    value += 'k';\n",
       "    value += event.which.toString();\n",
       "\n",
       "    this._key_event_extra(event, name);\n",
       "\n",
       "    this.send_message(name, {key: value,\n",
       "                             guiEvent: simpleKeys(event)});\n",
       "    return false;\n",
       "}\n",
       "\n",
       "mpl.figure.prototype.toolbar_button_onclick = function(name) {\n",
       "    if (name == 'download') {\n",
       "        this.handle_save(this, null);\n",
       "    } else {\n",
       "        this.send_message(\"toolbar_button\", {name: name});\n",
       "    }\n",
       "};\n",
       "\n",
       "mpl.figure.prototype.toolbar_button_onmouseover = function(tooltip) {\n",
       "    this.message.textContent = tooltip;\n",
       "};\n",
       "mpl.toolbar_items = [[\"Home\", \"Reset original view\", \"fa fa-home icon-home\", \"home\"], [\"Back\", \"Back to previous view\", \"fa fa-arrow-left icon-arrow-left\", \"back\"], [\"Forward\", \"Forward to next view\", \"fa fa-arrow-right icon-arrow-right\", \"forward\"], [\"\", \"\", \"\", \"\"], [\"Pan\", \"Pan axes with left mouse, zoom with right\", \"fa fa-arrows icon-move\", \"pan\"], [\"Zoom\", \"Zoom to rectangle\", \"fa fa-square-o icon-check-empty\", \"zoom\"], [\"\", \"\", \"\", \"\"], [\"Download\", \"Download plot\", \"fa fa-floppy-o icon-save\", \"download\"]];\n",
       "\n",
       "mpl.extensions = [\"eps\", \"jpeg\", \"pdf\", \"png\", \"ps\", \"raw\", \"svg\", \"tif\"];\n",
       "\n",
       "mpl.default_extension = \"png\";var comm_websocket_adapter = function(comm) {\n",
       "    // Create a \"websocket\"-like object which calls the given IPython comm\n",
       "    // object with the appropriate methods. Currently this is a non binary\n",
       "    // socket, so there is still some room for performance tuning.\n",
       "    var ws = {};\n",
       "\n",
       "    ws.close = function() {\n",
       "        comm.close()\n",
       "    };\n",
       "    ws.send = function(m) {\n",
       "        //console.log('sending', m);\n",
       "        comm.send(m);\n",
       "    };\n",
       "    // Register the callback with on_msg.\n",
       "    comm.on_msg(function(msg) {\n",
       "        //console.log('receiving', msg['content']['data'], msg);\n",
       "        // Pass the mpl event to the overridden (by mpl) onmessage function.\n",
       "        ws.onmessage(msg['content']['data'])\n",
       "    });\n",
       "    return ws;\n",
       "}\n",
       "\n",
       "mpl.mpl_figure_comm = function(comm, msg) {\n",
       "    // This is the function which gets called when the mpl process\n",
       "    // starts-up an IPython Comm through the \"matplotlib\" channel.\n",
       "\n",
       "    var id = msg.content.data.id;\n",
       "    // Get hold of the div created by the display call when the Comm\n",
       "    // socket was opened in Python.\n",
       "    var element = $(\"#\" + id);\n",
       "    var ws_proxy = comm_websocket_adapter(comm)\n",
       "\n",
       "    function ondownload(figure, format) {\n",
       "        window.open(figure.imageObj.src);\n",
       "    }\n",
       "\n",
       "    var fig = new mpl.figure(id, ws_proxy,\n",
       "                           ondownload,\n",
       "                           element.get(0));\n",
       "\n",
       "    // Call onopen now - mpl needs it, as it is assuming we've passed it a real\n",
       "    // web socket which is closed, not our websocket->open comm proxy.\n",
       "    ws_proxy.onopen();\n",
       "\n",
       "    fig.parent_element = element.get(0);\n",
       "    fig.cell_info = mpl.find_output_cell(\"<div id='\" + id + \"'></div>\");\n",
       "    if (!fig.cell_info) {\n",
       "        console.error(\"Failed to find cell for figure\", id, fig);\n",
       "        return;\n",
       "    }\n",
       "\n",
       "    var output_index = fig.cell_info[2]\n",
       "    var cell = fig.cell_info[0];\n",
       "\n",
       "};\n",
       "\n",
       "mpl.figure.prototype.handle_close = function(fig, msg) {\n",
       "    var width = fig.canvas.width/mpl.ratio\n",
       "    fig.root.unbind('remove')\n",
       "\n",
       "    // Update the output cell to use the data from the current canvas.\n",
       "    fig.push_to_output();\n",
       "    var dataURL = fig.canvas.toDataURL();\n",
       "    // Re-enable the keyboard manager in IPython - without this line, in FF,\n",
       "    // the notebook keyboard shortcuts fail.\n",
       "    IPython.keyboard_manager.enable()\n",
       "    $(fig.parent_element).html('<img src=\"' + dataURL + '\" width=\"' + width + '\">');\n",
       "    fig.close_ws(fig, msg);\n",
       "}\n",
       "\n",
       "mpl.figure.prototype.close_ws = function(fig, msg){\n",
       "    fig.send_message('closing', msg);\n",
       "    // fig.ws.close()\n",
       "}\n",
       "\n",
       "mpl.figure.prototype.push_to_output = function(remove_interactive) {\n",
       "    // Turn the data on the canvas into data in the output cell.\n",
       "    var width = this.canvas.width/mpl.ratio\n",
       "    var dataURL = this.canvas.toDataURL();\n",
       "    this.cell_info[1]['text/html'] = '<img src=\"' + dataURL + '\" width=\"' + width + '\">';\n",
       "}\n",
       "\n",
       "mpl.figure.prototype.updated_canvas_event = function() {\n",
       "    // Tell IPython that the notebook contents must change.\n",
       "    IPython.notebook.set_dirty(true);\n",
       "    this.send_message(\"ack\", {});\n",
       "    var fig = this;\n",
       "    // Wait a second, then push the new image to the DOM so\n",
       "    // that it is saved nicely (might be nice to debounce this).\n",
       "    setTimeout(function () { fig.push_to_output() }, 1000);\n",
       "}\n",
       "\n",
       "mpl.figure.prototype._init_toolbar = function() {\n",
       "    var fig = this;\n",
       "\n",
       "    var nav_element = $('<div/>');\n",
       "    nav_element.attr('style', 'width: 100%');\n",
       "    this.root.append(nav_element);\n",
       "\n",
       "    // Define a callback function for later on.\n",
       "    function toolbar_event(event) {\n",
       "        return fig.toolbar_button_onclick(event['data']);\n",
       "    }\n",
       "    function toolbar_mouse_event(event) {\n",
       "        return fig.toolbar_button_onmouseover(event['data']);\n",
       "    }\n",
       "\n",
       "    for(var toolbar_ind in mpl.toolbar_items){\n",
       "        var name = mpl.toolbar_items[toolbar_ind][0];\n",
       "        var tooltip = mpl.toolbar_items[toolbar_ind][1];\n",
       "        var image = mpl.toolbar_items[toolbar_ind][2];\n",
       "        var method_name = mpl.toolbar_items[toolbar_ind][3];\n",
       "\n",
       "        if (!name) { continue; };\n",
       "\n",
       "        var button = $('<button class=\"btn btn-default\" href=\"#\" title=\"' + name + '\"><i class=\"fa ' + image + ' fa-lg\"></i></button>');\n",
       "        button.click(method_name, toolbar_event);\n",
       "        button.mouseover(tooltip, toolbar_mouse_event);\n",
       "        nav_element.append(button);\n",
       "    }\n",
       "\n",
       "    // Add the status bar.\n",
       "    var status_bar = $('<span class=\"mpl-message\" style=\"text-align:right; float: right;\"/>');\n",
       "    nav_element.append(status_bar);\n",
       "    this.message = status_bar[0];\n",
       "\n",
       "    // Add the close button to the window.\n",
       "    var buttongrp = $('<div class=\"btn-group inline pull-right\"></div>');\n",
       "    var button = $('<button class=\"btn btn-mini btn-primary\" href=\"#\" title=\"Stop Interaction\"><i class=\"fa fa-power-off icon-remove icon-large\"></i></button>');\n",
       "    button.click(function (evt) { fig.handle_close(fig, {}); } );\n",
       "    button.mouseover('Stop Interaction', toolbar_mouse_event);\n",
       "    buttongrp.append(button);\n",
       "    var titlebar = this.root.find($('.ui-dialog-titlebar'));\n",
       "    titlebar.prepend(buttongrp);\n",
       "}\n",
       "\n",
       "mpl.figure.prototype._root_extra_style = function(el){\n",
       "    var fig = this\n",
       "    el.on(\"remove\", function(){\n",
       "\tfig.close_ws(fig, {});\n",
       "    });\n",
       "}\n",
       "\n",
       "mpl.figure.prototype._canvas_extra_style = function(el){\n",
       "    // this is important to make the div 'focusable\n",
       "    el.attr('tabindex', 0)\n",
       "    // reach out to IPython and tell the keyboard manager to turn it's self\n",
       "    // off when our div gets focus\n",
       "\n",
       "    // location in version 3\n",
       "    if (IPython.notebook.keyboard_manager) {\n",
       "        IPython.notebook.keyboard_manager.register_events(el);\n",
       "    }\n",
       "    else {\n",
       "        // location in version 2\n",
       "        IPython.keyboard_manager.register_events(el);\n",
       "    }\n",
       "\n",
       "}\n",
       "\n",
       "mpl.figure.prototype._key_event_extra = function(event, name) {\n",
       "    var manager = IPython.notebook.keyboard_manager;\n",
       "    if (!manager)\n",
       "        manager = IPython.keyboard_manager;\n",
       "\n",
       "    // Check for shift+enter\n",
       "    if (event.shiftKey && event.which == 13) {\n",
       "        this.canvas_div.blur();\n",
       "        event.shiftKey = false;\n",
       "        // Send a \"J\" for go to next cell\n",
       "        event.which = 74;\n",
       "        event.keyCode = 74;\n",
       "        manager.command_mode();\n",
       "        manager.handle_keydown(event);\n",
       "    }\n",
       "}\n",
       "\n",
       "mpl.figure.prototype.handle_save = function(fig, msg) {\n",
       "    fig.ondownload(fig, null);\n",
       "}\n",
       "\n",
       "\n",
       "mpl.find_output_cell = function(html_output) {\n",
       "    // Return the cell and output element which can be found *uniquely* in the notebook.\n",
       "    // Note - this is a bit hacky, but it is done because the \"notebook_saving.Notebook\"\n",
       "    // IPython event is triggered only after the cells have been serialised, which for\n",
       "    // our purposes (turning an active figure into a static one), is too late.\n",
       "    var cells = IPython.notebook.get_cells();\n",
       "    var ncells = cells.length;\n",
       "    for (var i=0; i<ncells; i++) {\n",
       "        var cell = cells[i];\n",
       "        if (cell.cell_type === 'code'){\n",
       "            for (var j=0; j<cell.output_area.outputs.length; j++) {\n",
       "                var data = cell.output_area.outputs[j];\n",
       "                if (data.data) {\n",
       "                    // IPython >= 3 moved mimebundle to data attribute of output\n",
       "                    data = data.data;\n",
       "                }\n",
       "                if (data['text/html'] == html_output) {\n",
       "                    return [cell, data, j];\n",
       "                }\n",
       "            }\n",
       "        }\n",
       "    }\n",
       "}\n",
       "\n",
       "// Register the function which deals with the matplotlib target/channel.\n",
       "// The kernel may be null if the page has been refreshed.\n",
       "if (IPython.notebook.kernel != null) {\n",
       "    IPython.notebook.kernel.comm_manager.register_target('matplotlib', mpl.mpl_figure_comm);\n",
       "}\n"
      ],
      "text/plain": [
       "<IPython.core.display.Javascript object>"
      ]
     },
     "metadata": {},
     "output_type": "display_data"
    },
    {
     "data": {
      "text/html": [
       "<img src=\"data:image/png;base64,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\" width=\"850\">"
      ],
      "text/plain": [
       "<IPython.core.display.HTML object>"
      ]
     },
     "metadata": {},
     "output_type": "display_data"
    },
    {
     "name": "stdout",
     "output_type": "stream",
     "text": [
      "\n",
      "Begin Training. Rot=0, Alpha=0\n"
     ]
    },
    {
     "data": {
      "application/vnd.jupyter.widget-view+json": {
       "model_id": "778bce953d294b32b77049ccd1ee107b",
       "version_major": 2,
       "version_minor": 0
      },
      "text/plain": [
       "HBox(children=(FloatProgress(value=0.0, max=10000.0), HTML(value='')))"
      ]
     },
     "metadata": {},
     "output_type": "display_data"
    },
    {
     "name": "stdout",
     "output_type": "stream",
     "text": [
      "Hace al menos 200 épocas NO disminuye Valid Loss. Best F1= 0.2770525013341946\n"
     ]
    },
    {
     "data": {
      "application/vnd.jupyter.widget-view+json": {
       "model_id": "0faad9e1b92f41e591f4c99ed66c3f94",
       "version_major": 2,
       "version_minor": 0
      },
      "text/plain": [
       "HBox(children=(FloatProgress(value=0.0, max=10000.0), HTML(value='')))"
      ]
     },
     "metadata": {},
     "output_type": "display_data"
    },
    {
     "name": "stdout",
     "output_type": "stream",
     "text": [
      "Hace al menos 200 épocas NO disminuye Valid Loss. Best F1= 0.30161317541251326\n"
     ]
    },
    {
     "data": {
      "application/vnd.jupyter.widget-view+json": {
       "model_id": "94db061002354a95af5212e9850c8a28",
       "version_major": 2,
       "version_minor": 0
      },
      "text/plain": [
       "HBox(children=(FloatProgress(value=0.0, max=10000.0), HTML(value='')))"
      ]
     },
     "metadata": {},
     "output_type": "display_data"
    },
    {
     "name": "stdout",
     "output_type": "stream",
     "text": [
      "Hace al menos 200 épocas NO disminuye Valid Loss. Best F1= 0.27928926173819363\n",
      "Results: F1 mean= 0.28598497949496715 F1 std= 0.01108846713193871\n",
      "End Training. Rot=0, Alpha=0\n",
      "\n",
      "Begin Training. Rot=0, Alpha=0.25\n"
     ]
    },
    {
     "data": {
      "application/vnd.jupyter.widget-view+json": {
       "model_id": "432a86e2695c4955b93fbbe3fc5b5105",
       "version_major": 2,
       "version_minor": 0
      },
      "text/plain": [
       "HBox(children=(FloatProgress(value=0.0, max=10000.0), HTML(value='')))"
      ]
     },
     "metadata": {},
     "output_type": "display_data"
    },
    {
     "name": "stdout",
     "output_type": "stream",
     "text": [
      "Hace al menos 200 épocas NO disminuye Valid Loss. Best F1= 0.2546854774279384\n"
     ]
    },
    {
     "data": {
      "application/vnd.jupyter.widget-view+json": {
       "model_id": "63fbf1eb3cc647eaabd321d2adea9bc2",
       "version_major": 2,
       "version_minor": 0
      },
      "text/plain": [
       "HBox(children=(FloatProgress(value=0.0, max=10000.0), HTML(value='')))"
      ]
     },
     "metadata": {},
     "output_type": "display_data"
    },
    {
     "name": "stdout",
     "output_type": "stream",
     "text": [
      "Hace al menos 200 épocas NO disminuye Valid Loss. Best F1= 0.3002931711204017\n"
     ]
    },
    {
     "data": {
      "application/vnd.jupyter.widget-view+json": {
       "model_id": "803f1d3f5f8c4e2d840cf615bff71cca",
       "version_major": 2,
       "version_minor": 0
      },
      "text/plain": [
       "HBox(children=(FloatProgress(value=0.0, max=10000.0), HTML(value='')))"
      ]
     },
     "metadata": {},
     "output_type": "display_data"
    },
    {
     "name": "stdout",
     "output_type": "stream",
     "text": [
      "Hace al menos 200 épocas NO disminuye Valid Loss. Best F1= 0.49838844046769243\n",
      "Results: F1 mean= 0.35112236300534416 F1 std= 0.10578433598394474\n",
      "End Training. Rot=0, Alpha=0.25\n",
      "\n",
      "Begin Training. Rot=0, Alpha=0.5\n"
     ]
    },
    {
     "data": {
      "application/vnd.jupyter.widget-view+json": {
       "model_id": "6baaf868a6e3427a8376f686142bab49",
       "version_major": 2,
       "version_minor": 0
      },
      "text/plain": [
       "HBox(children=(FloatProgress(value=0.0, max=10000.0), HTML(value='')))"
      ]
     },
     "metadata": {},
     "output_type": "display_data"
    },
    {
     "name": "stdout",
     "output_type": "stream",
     "text": [
      "Hace al menos 200 épocas NO disminuye Valid Loss. Best F1= 0.2750119217408076\n"
     ]
    },
    {
     "data": {
      "application/vnd.jupyter.widget-view+json": {
       "model_id": "d241a0d60d214f88b318426f17db3c88",
       "version_major": 2,
       "version_minor": 0
      },
      "text/plain": [
       "HBox(children=(FloatProgress(value=0.0, max=10000.0), HTML(value='')))"
      ]
     },
     "metadata": {},
     "output_type": "display_data"
    },
    {
     "name": "stdout",
     "output_type": "stream",
     "text": [
      "Hace al menos 200 épocas NO disminuye Valid Loss. Best F1= 0.3359297771813984\n"
     ]
    },
    {
     "data": {
      "application/vnd.jupyter.widget-view+json": {
       "model_id": "473241cae8bb4ed9aa807541c2b49e4a",
       "version_major": 2,
       "version_minor": 0
      },
      "text/plain": [
       "HBox(children=(FloatProgress(value=0.0, max=10000.0), HTML(value='')))"
      ]
     },
     "metadata": {},
     "output_type": "display_data"
    },
    {
     "name": "stdout",
     "output_type": "stream",
     "text": [
      "Hace al menos 200 épocas NO disminuye Valid Loss. Best F1= 0.2755761935226014\n",
      "Results: F1 mean= 0.29550596414826913 F1 std= 0.02858488056955957\n",
      "End Training. Rot=0, Alpha=0.5\n",
      "\n",
      "Begin Training. Rot=0, Alpha=0.75\n"
     ]
    },
    {
     "data": {
      "application/vnd.jupyter.widget-view+json": {
       "model_id": "5f82a3d504ca4de6945095a30770a1dc",
       "version_major": 2,
       "version_minor": 0
      },
      "text/plain": [
       "HBox(children=(FloatProgress(value=0.0, max=10000.0), HTML(value='')))"
      ]
     },
     "metadata": {},
     "output_type": "display_data"
    },
    {
     "name": "stdout",
     "output_type": "stream",
     "text": [
      "Hace al menos 200 épocas NO disminuye Valid Loss. Best F1= 0.1898203257466607\n"
     ]
    },
    {
     "data": {
      "application/vnd.jupyter.widget-view+json": {
       "model_id": "ae699eda9692475db2d6680ff078c513",
       "version_major": 2,
       "version_minor": 0
      },
      "text/plain": [
       "HBox(children=(FloatProgress(value=0.0, max=10000.0), HTML(value='')))"
      ]
     },
     "metadata": {},
     "output_type": "display_data"
    },
    {
     "name": "stdout",
     "output_type": "stream",
     "text": [
      "Hace al menos 200 épocas NO disminuye Valid Loss. Best F1= 0.5239286998258932\n"
     ]
    },
    {
     "data": {
      "application/vnd.jupyter.widget-view+json": {
       "model_id": "a7970cac296448d88187027b9350d7cc",
       "version_major": 2,
       "version_minor": 0
      },
      "text/plain": [
       "HBox(children=(FloatProgress(value=0.0, max=10000.0), HTML(value='')))"
      ]
     },
     "metadata": {},
     "output_type": "display_data"
    },
    {
     "name": "stdout",
     "output_type": "stream",
     "text": [
      "Hace al menos 200 épocas NO disminuye Valid Loss. Best F1= 0.28305706400645\n",
      "Results: F1 mean= 0.3322686965263346 F1 std= 0.1407679887590954\n",
      "End Training. Rot=0, Alpha=0.75\n",
      "\n",
      "Begin Training. Rot=0, Alpha=1\n"
     ]
    },
    {
     "data": {
      "application/vnd.jupyter.widget-view+json": {
       "model_id": "9a7a7f7aaa4b469b955b4d2e3adf5e5f",
       "version_major": 2,
       "version_minor": 0
      },
      "text/plain": [
       "HBox(children=(FloatProgress(value=0.0, max=10000.0), HTML(value='')))"
      ]
     },
     "metadata": {},
     "output_type": "display_data"
    },
    {
     "name": "stdout",
     "output_type": "stream",
     "text": [
      "Hace al menos 200 épocas NO disminuye Valid Loss. Best F1= 0.25285780937322133\n"
     ]
    },
    {
     "data": {
      "application/vnd.jupyter.widget-view+json": {
       "model_id": "5d20d9d22cd1464eaf9dcfd190f7329b",
       "version_major": 2,
       "version_minor": 0
      },
      "text/plain": [
       "HBox(children=(FloatProgress(value=0.0, max=10000.0), HTML(value='')))"
      ]
     },
     "metadata": {},
     "output_type": "display_data"
    },
    {
     "name": "stdout",
     "output_type": "stream",
     "text": [
      "Hace al menos 200 épocas NO disminuye Valid Loss. Best F1= 0.12946035287437724\n"
     ]
    },
    {
     "data": {
      "application/vnd.jupyter.widget-view+json": {
       "model_id": "00f353cc0bce431e9fdc65f403f1d47c",
       "version_major": 2,
       "version_minor": 0
      },
      "text/plain": [
       "HBox(children=(FloatProgress(value=0.0, max=10000.0), HTML(value='')))"
      ]
     },
     "metadata": {},
     "output_type": "display_data"
    },
    {
     "name": "stdout",
     "output_type": "stream",
     "text": [
      "Hace al menos 200 épocas NO disminuye Valid Loss. Best F1= 0.4968012971785532\n",
      "Results: F1 mean= 0.29303981980871724 F1 std= 0.15263417662841147\n",
      "End Training. Rot=0, Alpha=1\n",
      "\n",
      "Begin Training. Rot=1, Alpha=0\n"
     ]
    },
    {
     "data": {
      "application/vnd.jupyter.widget-view+json": {
       "model_id": "23ec8ab1f2124773916f35f1c3c7ce65",
       "version_major": 2,
       "version_minor": 0
      },
      "text/plain": [
       "HBox(children=(FloatProgress(value=0.0, max=10000.0), HTML(value='')))"
      ]
     },
     "metadata": {},
     "output_type": "display_data"
    },
    {
     "name": "stdout",
     "output_type": "stream",
     "text": [
      "Hace al menos 200 épocas NO disminuye Valid Loss. Best F1= 0.4968990462742533\n"
     ]
    },
    {
     "data": {
      "application/vnd.jupyter.widget-view+json": {
       "model_id": "064319d6dbde44d2b47a8decbc66b118",
       "version_major": 2,
       "version_minor": 0
      },
      "text/plain": [
       "HBox(children=(FloatProgress(value=0.0, max=10000.0), HTML(value='')))"
      ]
     },
     "metadata": {},
     "output_type": "display_data"
    },
    {
     "name": "stdout",
     "output_type": "stream",
     "text": [
      "Hace al menos 200 épocas NO disminuye Valid Loss. Best F1= 0.2277536025219862\n"
     ]
    },
    {
     "data": {
      "application/vnd.jupyter.widget-view+json": {
       "model_id": "e5b41023e0664d9ab63e12d756f1e0ac",
       "version_major": 2,
       "version_minor": 0
      },
      "text/plain": [
       "HBox(children=(FloatProgress(value=0.0, max=10000.0), HTML(value='')))"
      ]
     },
     "metadata": {},
     "output_type": "display_data"
    },
    {
     "name": "stdout",
     "output_type": "stream",
     "text": [
      "Hace al menos 200 épocas NO disminuye Valid Loss. Best F1= 0.30437769490329886\n",
      "Results: F1 mean= 0.34301011456651276 F1 std= 0.11322298164809476\n",
      "End Training. Rot=1, Alpha=0\n",
      "\n",
      "Begin Training. Rot=1, Alpha=0.25\n"
     ]
    },
    {
     "data": {
      "application/vnd.jupyter.widget-view+json": {
       "model_id": "c033b02c5e204e5fb5a6694492d47d4e",
       "version_major": 2,
       "version_minor": 0
      },
      "text/plain": [
       "HBox(children=(FloatProgress(value=0.0, max=10000.0), HTML(value='')))"
      ]
     },
     "metadata": {},
     "output_type": "display_data"
    },
    {
     "name": "stdout",
     "output_type": "stream",
     "text": [
      "Hace al menos 200 épocas NO disminuye Valid Loss. Best F1= 0.35479227250081025\n"
     ]
    },
    {
     "data": {
      "application/vnd.jupyter.widget-view+json": {
       "model_id": "626bd0b842574f56b98a452aeccf6010",
       "version_major": 2,
       "version_minor": 0
      },
      "text/plain": [
       "HBox(children=(FloatProgress(value=0.0, max=10000.0), HTML(value='')))"
      ]
     },
     "metadata": {},
     "output_type": "display_data"
    },
    {
     "name": "stdout",
     "output_type": "stream",
     "text": [
      "Hace al menos 200 épocas NO disminuye Valid Loss. Best F1= 0.21918570553205605\n"
     ]
    },
    {
     "data": {
      "application/vnd.jupyter.widget-view+json": {
       "model_id": "857c45381dab40f3ad7e2e2f4eb9c994",
       "version_major": 2,
       "version_minor": 0
      },
      "text/plain": [
       "HBox(children=(FloatProgress(value=0.0, max=10000.0), HTML(value='')))"
      ]
     },
     "metadata": {},
     "output_type": "display_data"
    },
    {
     "name": "stdout",
     "output_type": "stream",
     "text": [
      "Hace al menos 200 épocas NO disminuye Valid Loss. Best F1= 0.28668146529402694\n",
      "Results: F1 mean= 0.2868864811089644 F1 std= 0.05536133894621219\n",
      "End Training. Rot=1, Alpha=0.25\n",
      "\n",
      "Begin Training. Rot=1, Alpha=0.5\n"
     ]
    },
    {
     "data": {
      "application/vnd.jupyter.widget-view+json": {
       "model_id": "b622345fecb94a999331ce3386393388",
       "version_major": 2,
       "version_minor": 0
      },
      "text/plain": [
       "HBox(children=(FloatProgress(value=0.0, max=10000.0), HTML(value='')))"
      ]
     },
     "metadata": {},
     "output_type": "display_data"
    },
    {
     "name": "stdout",
     "output_type": "stream",
     "text": [
      "Hace al menos 200 épocas NO disminuye Valid Loss. Best F1= 0.5211691692025239\n"
     ]
    },
    {
     "data": {
      "application/vnd.jupyter.widget-view+json": {
       "model_id": "2fd2032865654b5cb33393df044a0853",
       "version_major": 2,
       "version_minor": 0
      },
      "text/plain": [
       "HBox(children=(FloatProgress(value=0.0, max=10000.0), HTML(value='')))"
      ]
     },
     "metadata": {},
     "output_type": "display_data"
    },
    {
     "name": "stdout",
     "output_type": "stream",
     "text": [
      "Hace al menos 200 épocas NO disminuye Valid Loss. Best F1= 0.26034784251449183\n"
     ]
    },
    {
     "data": {
      "application/vnd.jupyter.widget-view+json": {
       "model_id": "c2958ccedbb04c64a65ddcfb07d18160",
       "version_major": 2,
       "version_minor": 0
      },
      "text/plain": [
       "HBox(children=(FloatProgress(value=0.0, max=10000.0), HTML(value='')))"
      ]
     },
     "metadata": {},
     "output_type": "display_data"
    },
    {
     "name": "stdout",
     "output_type": "stream",
     "text": [
      "Hace al menos 200 épocas NO disminuye Valid Loss. Best F1= 0.30393078184672956\n",
      "Results: F1 mean= 0.36181593118791505 F1 std= 0.11407587825511813\n",
      "End Training. Rot=1, Alpha=0.5\n",
      "\n",
      "Begin Training. Rot=1, Alpha=0.75\n"
     ]
    },
    {
     "data": {
      "application/vnd.jupyter.widget-view+json": {
       "model_id": "aae6bd10e4804d48a7599bea966199fa",
       "version_major": 2,
       "version_minor": 0
      },
      "text/plain": [
       "HBox(children=(FloatProgress(value=0.0, max=10000.0), HTML(value='')))"
      ]
     },
     "metadata": {},
     "output_type": "display_data"
    },
    {
     "name": "stdout",
     "output_type": "stream",
     "text": [
      "Hace al menos 200 épocas NO disminuye Valid Loss. Best F1= 0.33381134711357346\n"
     ]
    },
    {
     "data": {
      "application/vnd.jupyter.widget-view+json": {
       "model_id": "345a8dc6426445b2bcac375653af4a85",
       "version_major": 2,
       "version_minor": 0
      },
      "text/plain": [
       "HBox(children=(FloatProgress(value=0.0, max=10000.0), HTML(value='')))"
      ]
     },
     "metadata": {},
     "output_type": "display_data"
    },
    {
     "name": "stdout",
     "output_type": "stream",
     "text": [
      "Hace al menos 200 épocas NO disminuye Valid Loss. Best F1= 0.2892692184853419\n"
     ]
    },
    {
     "data": {
      "application/vnd.jupyter.widget-view+json": {
       "model_id": "c6223cc369344a58ad98bb7e915cf978",
       "version_major": 2,
       "version_minor": 0
      },
      "text/plain": [
       "HBox(children=(FloatProgress(value=0.0, max=10000.0), HTML(value='')))"
      ]
     },
     "metadata": {},
     "output_type": "display_data"
    },
    {
     "name": "stdout",
     "output_type": "stream",
     "text": [
      "Hace al menos 200 épocas NO disminuye Valid Loss. Best F1= 0.25556554772411316\n",
      "Results: F1 mean= 0.29288203777434285 F1 std= 0.03204570307061619\n",
      "End Training. Rot=1, Alpha=0.75\n",
      "\n",
      "Begin Training. Rot=1, Alpha=1\n"
     ]
    },
    {
     "data": {
      "application/vnd.jupyter.widget-view+json": {
       "model_id": "33785963267341a4bf8a76a465e5bee3",
       "version_major": 2,
       "version_minor": 0
      },
      "text/plain": [
       "HBox(children=(FloatProgress(value=0.0, max=10000.0), HTML(value='')))"
      ]
     },
     "metadata": {},
     "output_type": "display_data"
    },
    {
     "name": "stdout",
     "output_type": "stream",
     "text": [
      "Hace al menos 200 épocas NO disminuye Valid Loss. Best F1= 0.2729033197161524\n"
     ]
    },
    {
     "data": {
      "application/vnd.jupyter.widget-view+json": {
       "model_id": "9d57842045414ac482aa2cf231f4c02d",
       "version_major": 2,
       "version_minor": 0
      },
      "text/plain": [
       "HBox(children=(FloatProgress(value=0.0, max=10000.0), HTML(value='')))"
      ]
     },
     "metadata": {},
     "output_type": "display_data"
    },
    {
     "name": "stdout",
     "output_type": "stream",
     "text": [
      "Hace al menos 200 épocas NO disminuye Valid Loss. Best F1= 0.518479638349015\n"
     ]
    },
    {
     "data": {
      "application/vnd.jupyter.widget-view+json": {
       "model_id": "6e8a44510426429d8b45ec52130b8c1d",
       "version_major": 2,
       "version_minor": 0
      },
      "text/plain": [
       "HBox(children=(FloatProgress(value=0.0, max=10000.0), HTML(value='')))"
      ]
     },
     "metadata": {},
     "output_type": "display_data"
    },
    {
     "name": "stdout",
     "output_type": "stream",
     "text": [
      "Hace al menos 200 épocas NO disminuye Valid Loss. Best F1= 0.5392982564050627\n",
      "Results: F1 mean= 0.4435604048234101 F1 std= 0.12097171635667633\n",
      "End Training. Rot=1, Alpha=1\n",
      "-------END-------\n"
     ]
    }
   ],
   "source": [
    "fig, ax = plt.subplots(1, 2, figsize=(8.5, 4), tight_layout=True, sharex=True)\n",
    "# for IDS in [0,1]:\n",
    "for rot_key in [0,1]:\n",
    "    for alpha in [0,0.25,0.5,0.75,1]:\n",
    "        top5f1=list()\n",
    "        prompt=\"Training. Rot=\"+str(rot_key)+\", Alpha=\"+str(alpha)\n",
    "        print(\"\\nBegin\",prompt)\n",
    "        for s in range(3): \n",
    "            comentario = \"_Rot\"+str(rot_key)+\"_Alpha\"+str(alpha)+\"_sampleo\"+str(s)\n",
    "            path = '/home/amorales/models/best_LCC_model_stride1_'+comentario+'.pt'\n",
    "            # sampleo random manual y crear dataset\n",
    "            VVV_eqData=EMRS_dataset(rs)\n",
    "            # DataLoaders\n",
    "            # TOGGLE IDS\n",
    "            train_loader, test_loader = make_dataloaders(VVV_eqData,use_IDS,split,train_size,test_size)\n",
    "            # ENTRENAR\n",
    "            modelo=MLP()\n",
    "            if use_gpu:\n",
    "                modelo=modelo.cuda()\n",
    "            topf1 = training(modelo, criterion, lr,wd, epochs, use_gpu, train_loader, test_loader,path,ax,top5f1)\n",
    "            top5f1.append(topf1)\n",
    "        \n",
    "        # return f1 mean, f1 std\n",
    "        print(\"Results: F1 mean=\",np.mean(top5f1),\"F1 std=\",np.std(top5f1))\n",
    "        print(\"End\",prompt)\n",
    "print(\"-------END-------\")"
   ]
  },
  {
   "cell_type": "code",
   "execution_count": null,
   "metadata": {},
   "outputs": [],
   "source": [
    "column_names = ['PhaseRot(T/F)','AugmentAlpha','f1_mean','f1_std']\n",
    "df_results = pd.read_csv('results2.csv',names=column_names)\n",
    "df_results"
   ]
  },
  {
   "cell_type": "code",
   "execution_count": null,
   "metadata": {},
   "outputs": [],
   "source": [
    "fig, ax = plt.subplots(1, 2, figsize=(8.5, 4), tight_layout=True,sharey=True)\n",
    "ax[0].errorbar(df_results['AugmentAlpha'][:5],df_results['f1_mean'][:5],df_results['f1_std'][:5],fmt='bo')\n",
    "ax[1].errorbar(df_results['AugmentAlpha'][:5],df_results['f1_mean'][5:],df_results['f1_std'][5:],fmt='ro')\n",
    "\n",
    "fig.suptitle('Results')\n",
    "[ax_.set_title('Rot='+str(i)) for i,ax_ in enumerate(ax)]\n",
    "ax[0].set_ylabel('F1 Score')\n",
    "[ax_.set_xlabel('Alpha Augmentation') for ax_ in ax]"
   ]
  },
  {
   "cell_type": "code",
   "execution_count": null,
   "metadata": {},
   "outputs": [],
   "source": [
    "path"
   ]
  },
  {
   "cell_type": "code",
   "execution_count": null,
   "metadata": {},
   "outputs": [],
   "source": []
  }
 ],
 "metadata": {
  "kernelspec": {
   "display_name": "Python 3",
   "language": "python",
   "name": "python3"
  },
  "language_info": {
   "codemirror_mode": {
    "name": "ipython",
    "version": 3
   },
   "file_extension": ".py",
   "mimetype": "text/x-python",
   "name": "python",
   "nbconvert_exporter": "python",
   "pygments_lexer": "ipython3",
   "version": "3.7.6"
  }
 },
 "nbformat": 4,
 "nbformat_minor": 2
}
