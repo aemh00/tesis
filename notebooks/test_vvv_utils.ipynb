{
 "cells": [
  {
   "cell_type": "code",
   "execution_count": null,
   "metadata": {},
   "outputs": [],
   "source": [
    "%matplotlib notebook\n",
    "import numpy as np\n",
    "import matplotlib.pyplot as plt\n",
    "%load_ext autoreload\n",
    "%autoreload 2"
   ]
  },
  {
   "cell_type": "code",
   "execution_count": null,
   "metadata": {},
   "outputs": [],
   "source": [
    "import sys\n",
    "sys.path.append(\"../libs\")\n",
    "from vvv_utils import parse_metadata, parse_light_curve_data, plot_light_curve, get_train_test_ids"
   ]
  },
  {
   "cell_type": "markdown",
   "metadata": {},
   "source": [
    "### Parse metadata"
   ]
  },
  {
   "cell_type": "code",
   "execution_count": null,
   "metadata": {},
   "outputs": [],
   "source": [
    "df_meta = parse_metadata(experiment=\"ALL\", merge_subclasses=True)\n",
    "class_names = df_meta[\"label\"].unique()\n",
    "display(df_meta.head(5))\n",
    "\n",
    "fig, ax = plt.subplots(figsize=(4, 2), tight_layout=True)\n",
    "ax.hist(df_meta[\"label\"], bins= np.arange(0, len(class_names) + 0.5) - 0.5);\n",
    "ax.set_yscale('log')\n",
    "ax.set_xticklabels(class_names, rotation='vertical');"
   ]
  },
  {
   "cell_type": "markdown",
   "metadata": {},
   "source": [
    "### Plotear a given light curve"
   ]
  },
  {
   "cell_type": "code",
   "execution_count": null,
   "metadata": {},
   "outputs": [],
   "source": [
    "meta_lc = df_meta.loc[\"b221_201_22183\"]\n",
    "\n",
    "lc_df = parse_light_curve_data(meta_lc.name)\n",
    "plot_light_curve(lc_df, period=meta_lc[\"P1\"])"
   ]
  },
  {
   "cell_type": "markdown",
   "metadata": {},
   "source": [
    "### Split dataset into train and test set using Stratified Shuffle Split"
   ]
  },
  {
   "cell_type": "code",
   "execution_count": null,
   "metadata": {},
   "outputs": [],
   "source": [
    "train_idx, test_idx = get_train_test_ids(df_meta)\n",
    "\n",
    "from collections import Counter\n",
    "\n",
    "display(Counter(list(df_meta.loc[train_idx][\"label\"])))\n",
    "display(Counter(list(df_meta.loc[test_idx][\"label\"])))"
   ]
  },
  {
   "cell_type": "code",
   "execution_count": null,
   "metadata": {},
   "outputs": [],
   "source": []
  }
 ],
 "metadata": {
  "kernelspec": {
   "display_name": "Astro",
   "language": "python",
   "name": "astro"
  },
  "language_info": {
   "codemirror_mode": {
    "name": "ipython",
    "version": 3
   },
   "file_extension": ".py",
   "mimetype": "text/x-python",
   "name": "python",
   "nbconvert_exporter": "python",
   "pygments_lexer": "ipython3",
   "version": "3.7.7"
  }
 },
 "nbformat": 4,
 "nbformat_minor": 4
}
