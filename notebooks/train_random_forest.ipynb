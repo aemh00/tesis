{
 "cells": [
  {
   "cell_type": "code",
   "execution_count": 1,
   "metadata": {},
   "outputs": [
    {
     "name": "stdout",
     "output_type": "stream",
     "text": [
      "env: MKL_NUM_THREADS=1\n"
     ]
    }
   ],
   "source": [
    "%load_ext autoreload\n",
    "%autoreload 2\n",
    "%env MKL_NUM_THREADS=1"
   ]
  },
  {
   "cell_type": "markdown",
   "metadata": {},
   "source": [
    "# Ranfom Forest on FATS"
   ]
  },
  {
   "cell_type": "markdown",
   "metadata": {},
   "source": [
    "Load data and features"
   ]
  },
  {
   "cell_type": "code",
   "execution_count": 2,
   "metadata": {},
   "outputs": [
    {
     "data": {
      "text/html": [
       "<div>\n",
       "<style scoped>\n",
       "    .dataframe tbody tr th:only-of-type {\n",
       "        vertical-align: middle;\n",
       "    }\n",
       "\n",
       "    .dataframe tbody tr th {\n",
       "        vertical-align: top;\n",
       "    }\n",
       "\n",
       "    .dataframe thead th {\n",
       "        text-align: right;\n",
       "    }\n",
       "</style>\n",
       "<table border=\"1\" class=\"dataframe\">\n",
       "  <thead>\n",
       "    <tr style=\"text-align: right;\">\n",
       "      <th></th>\n",
       "      <th>CAR_sigma</th>\n",
       "      <th>CAR_mean</th>\n",
       "      <th>Meanvariance</th>\n",
       "      <th>Mean</th>\n",
       "      <th>PercentDifferenceFluxPercentile</th>\n",
       "      <th>PercentAmplitude</th>\n",
       "      <th>Skew</th>\n",
       "      <th>AndersonDarling</th>\n",
       "      <th>Std</th>\n",
       "      <th>Rcs</th>\n",
       "      <th>...</th>\n",
       "      <th>Eta_e</th>\n",
       "      <th>Period_fit_v2</th>\n",
       "      <th>PeriodPowerRate</th>\n",
       "      <th>Psi_CS_v2</th>\n",
       "      <th>Psi_eta_v2</th>\n",
       "      <th>StructureFunction_index_21</th>\n",
       "      <th>Pvar</th>\n",
       "      <th>StructureFunction_index_31</th>\n",
       "      <th>ExcessVar</th>\n",
       "      <th>IAR_phi</th>\n",
       "    </tr>\n",
       "    <tr>\n",
       "      <th>oid</th>\n",
       "      <th></th>\n",
       "      <th></th>\n",
       "      <th></th>\n",
       "      <th></th>\n",
       "      <th></th>\n",
       "      <th></th>\n",
       "      <th></th>\n",
       "      <th></th>\n",
       "      <th></th>\n",
       "      <th></th>\n",
       "      <th></th>\n",
       "      <th></th>\n",
       "      <th></th>\n",
       "      <th></th>\n",
       "      <th></th>\n",
       "      <th></th>\n",
       "      <th></th>\n",
       "      <th></th>\n",
       "      <th></th>\n",
       "      <th></th>\n",
       "      <th></th>\n",
       "    </tr>\n",
       "  </thead>\n",
       "  <tbody>\n",
       "    <tr>\n",
       "      <th>b221_201_22183</th>\n",
       "      <td>0.029854</td>\n",
       "      <td>0.129690</td>\n",
       "      <td>0.004019</td>\n",
       "      <td>12.969043</td>\n",
       "      <td>0.011624</td>\n",
       "      <td>0.007798</td>\n",
       "      <td>0.299589</td>\n",
       "      <td>1.000000</td>\n",
       "      <td>0.052119</td>\n",
       "      <td>0.129087</td>\n",
       "      <td>...</td>\n",
       "      <td>0.085593</td>\n",
       "      <td>0.199446</td>\n",
       "      <td>0.006845</td>\n",
       "      <td>0.269202</td>\n",
       "      <td>0.174647</td>\n",
       "      <td>1.410958</td>\n",
       "      <td>1.0</td>\n",
       "      <td>1.567173</td>\n",
       "      <td>0.000015</td>\n",
       "      <td>0.395942</td>\n",
       "    </tr>\n",
       "    <tr>\n",
       "      <th>b221_205_41463</th>\n",
       "      <td>0.014141</td>\n",
       "      <td>0.122816</td>\n",
       "      <td>0.003381</td>\n",
       "      <td>12.281559</td>\n",
       "      <td>0.011656</td>\n",
       "      <td>0.008952</td>\n",
       "      <td>0.319367</td>\n",
       "      <td>0.996356</td>\n",
       "      <td>0.041528</td>\n",
       "      <td>0.160954</td>\n",
       "      <td>...</td>\n",
       "      <td>0.037231</td>\n",
       "      <td>0.088535</td>\n",
       "      <td>0.003884</td>\n",
       "      <td>0.239514</td>\n",
       "      <td>0.603361</td>\n",
       "      <td>2.110024</td>\n",
       "      <td>1.0</td>\n",
       "      <td>3.264560</td>\n",
       "      <td>0.000009</td>\n",
       "      <td>0.657367</td>\n",
       "    </tr>\n",
       "    <tr>\n",
       "      <th>b232_614_24529</th>\n",
       "      <td>0.012187</td>\n",
       "      <td>0.126573</td>\n",
       "      <td>0.002282</td>\n",
       "      <td>12.657314</td>\n",
       "      <td>0.007116</td>\n",
       "      <td>0.006595</td>\n",
       "      <td>-0.595523</td>\n",
       "      <td>0.997524</td>\n",
       "      <td>0.028881</td>\n",
       "      <td>0.152810</td>\n",
       "      <td>...</td>\n",
       "      <td>0.316498</td>\n",
       "      <td>0.010538</td>\n",
       "      <td>0.009164</td>\n",
       "      <td>0.198155</td>\n",
       "      <td>0.860321</td>\n",
       "      <td>1.734619</td>\n",
       "      <td>1.0</td>\n",
       "      <td>2.415084</td>\n",
       "      <td>0.000004</td>\n",
       "      <td>0.570542</td>\n",
       "    </tr>\n",
       "    <tr>\n",
       "      <th>b233_201_30278</th>\n",
       "      <td>0.012476</td>\n",
       "      <td>0.130966</td>\n",
       "      <td>0.002302</td>\n",
       "      <td>13.096551</td>\n",
       "      <td>0.007336</td>\n",
       "      <td>0.007901</td>\n",
       "      <td>0.331045</td>\n",
       "      <td>0.926431</td>\n",
       "      <td>0.030146</td>\n",
       "      <td>0.136696</td>\n",
       "      <td>...</td>\n",
       "      <td>0.024233</td>\n",
       "      <td>0.005611</td>\n",
       "      <td>0.201240</td>\n",
       "      <td>0.220840</td>\n",
       "      <td>1.208544</td>\n",
       "      <td>1.551493</td>\n",
       "      <td>1.0</td>\n",
       "      <td>1.957971</td>\n",
       "      <td>0.000004</td>\n",
       "      <td>0.283583</td>\n",
       "    </tr>\n",
       "    <tr>\n",
       "      <th>b233_201_16631</th>\n",
       "      <td>0.027895</td>\n",
       "      <td>3.682501</td>\n",
       "      <td>0.003355</td>\n",
       "      <td>12.692367</td>\n",
       "      <td>0.009962</td>\n",
       "      <td>0.011822</td>\n",
       "      <td>0.456372</td>\n",
       "      <td>0.999898</td>\n",
       "      <td>0.042577</td>\n",
       "      <td>0.144025</td>\n",
       "      <td>...</td>\n",
       "      <td>0.165085</td>\n",
       "      <td>0.139859</td>\n",
       "      <td>0.004803</td>\n",
       "      <td>0.278597</td>\n",
       "      <td>0.372389</td>\n",
       "      <td>1.692609</td>\n",
       "      <td>1.0</td>\n",
       "      <td>2.254031</td>\n",
       "      <td>0.000010</td>\n",
       "      <td>0.769216</td>\n",
       "    </tr>\n",
       "  </tbody>\n",
       "</table>\n",
       "<p>5 rows × 54 columns</p>\n",
       "</div>"
      ],
      "text/plain": [
       "                CAR_sigma  CAR_mean  Meanvariance       Mean  \\\n",
       "oid                                                            \n",
       "b221_201_22183   0.029854  0.129690      0.004019  12.969043   \n",
       "b221_205_41463   0.014141  0.122816      0.003381  12.281559   \n",
       "b232_614_24529   0.012187  0.126573      0.002282  12.657314   \n",
       "b233_201_30278   0.012476  0.130966      0.002302  13.096551   \n",
       "b233_201_16631   0.027895  3.682501      0.003355  12.692367   \n",
       "\n",
       "                PercentDifferenceFluxPercentile  PercentAmplitude      Skew  \\\n",
       "oid                                                                           \n",
       "b221_201_22183                         0.011624          0.007798  0.299589   \n",
       "b221_205_41463                         0.011656          0.008952  0.319367   \n",
       "b232_614_24529                         0.007116          0.006595 -0.595523   \n",
       "b233_201_30278                         0.007336          0.007901  0.331045   \n",
       "b233_201_16631                         0.009962          0.011822  0.456372   \n",
       "\n",
       "                AndersonDarling       Std       Rcs  ...     Eta_e  \\\n",
       "oid                                                  ...             \n",
       "b221_201_22183         1.000000  0.052119  0.129087  ...  0.085593   \n",
       "b221_205_41463         0.996356  0.041528  0.160954  ...  0.037231   \n",
       "b232_614_24529         0.997524  0.028881  0.152810  ...  0.316498   \n",
       "b233_201_30278         0.926431  0.030146  0.136696  ...  0.024233   \n",
       "b233_201_16631         0.999898  0.042577  0.144025  ...  0.165085   \n",
       "\n",
       "                Period_fit_v2  PeriodPowerRate  Psi_CS_v2  Psi_eta_v2  \\\n",
       "oid                                                                     \n",
       "b221_201_22183       0.199446         0.006845   0.269202    0.174647   \n",
       "b221_205_41463       0.088535         0.003884   0.239514    0.603361   \n",
       "b232_614_24529       0.010538         0.009164   0.198155    0.860321   \n",
       "b233_201_30278       0.005611         0.201240   0.220840    1.208544   \n",
       "b233_201_16631       0.139859         0.004803   0.278597    0.372389   \n",
       "\n",
       "                StructureFunction_index_21  Pvar  StructureFunction_index_31  \\\n",
       "oid                                                                            \n",
       "b221_201_22183                    1.410958   1.0                    1.567173   \n",
       "b221_205_41463                    2.110024   1.0                    3.264560   \n",
       "b232_614_24529                    1.734619   1.0                    2.415084   \n",
       "b233_201_30278                    1.551493   1.0                    1.957971   \n",
       "b233_201_16631                    1.692609   1.0                    2.254031   \n",
       "\n",
       "                ExcessVar   IAR_phi  \n",
       "oid                                  \n",
       "b221_201_22183   0.000015  0.395942  \n",
       "b221_205_41463   0.000009  0.657367  \n",
       "b232_614_24529   0.000004  0.570542  \n",
       "b233_201_30278   0.000004  0.283583  \n",
       "b233_201_16631   0.000010  0.769216  \n",
       "\n",
       "[5 rows x 54 columns]"
      ]
     },
     "metadata": {},
     "output_type": "display_data"
    },
    {
     "name": "stdout",
     "output_type": "stream",
     "text": [
      "(88454, 54)\n"
     ]
    }
   ],
   "source": [
    "import sys\n",
    "from joblib import load, dump\n",
    "from os.path import join, exists\n",
    "sys.path.append(\"../libs\")\n",
    "from vvv_utils import parse_metadata, parse_light_curve_data, vvv_path, get_train_test_ids\n",
    "\n",
    "# df_meta = parse_metadata(experiment=\"ALL\", merge_subclasses=True)\n",
    "with open(\"metadata4rf.pkl\", \"rb\") as f:\n",
    "    df_meta = load(f)\n",
    "train_idx, test_idx = get_train_test_ids(df_meta)\n",
    "\n",
    "#with open(join(vvv_path, \"features/features_fats_demo.pkl\"), \"rb\") as f:\n",
    "with open(\"../features_fats_all.pkl\", \"rb\") as f:\n",
    "    features = load(f)\n",
    "    \n",
    "display(features.head(5))\n",
    "print(features.shape)"
   ]
  },
  {
   "cell_type": "code",
   "execution_count": 3,
   "metadata": {},
   "outputs": [
    {
     "name": "stderr",
     "output_type": "stream",
     "text": [
      "/home/phuijse/.conda/envs/astro/lib/python3.7/site-packages/sklearn/externals/six.py:31: DeprecationWarning: The module is deprecated in version 0.21 and will be removed in version 0.23 since we've dropped support for Python 2.7. Please rely on the official version of six (https://pypi.org/project/six/).\n",
      "  \"(https://pypi.org/project/six/).\", DeprecationWarning)\n",
      "/home/phuijse/.conda/envs/astro/lib/python3.7/site-packages/sklearn/externals/joblib/__init__.py:15: DeprecationWarning: sklearn.externals.joblib is deprecated in 0.21 and will be removed in 0.23. Please import this functionality directly from joblib, which can be installed with: pip install joblib. If this warning is raised when loading pickled models, you may need to re-serialize those models with scikit-learn 0.21+.\n",
      "  warnings.warn(msg, category=DeprecationWarning)\n"
     ]
    }
   ],
   "source": [
    "import numpy as np\n",
    "from imblearn.ensemble import BalancedRandomForestClassifier\n",
    "from imblearn.over_sampling import SMOTE, ADASYN, BorderlineSMOTE\n",
    "from sklearn.ensemble import RandomForestClassifier\n",
    "from sklearn.model_selection import GridSearchCV\n",
    "from imblearn.pipeline import Pipeline"
   ]
  },
  {
   "cell_type": "markdown",
   "metadata": {},
   "source": [
    "# Balanced Random Forest Classifier\n",
    "\n",
    "Grid search cross validation to select best parameters in terms of best f1_macro score\n",
    "\n",
    "Save best model for future use"
   ]
  },
  {
   "cell_type": "raw",
   "metadata": {},
   "source": [
    "parameters = {'criterion':('gini', 'entropy'), \n",
    "              'n_estimators':[50, 500, 5000], \n",
    "              'max_depth': [None, 10]\n",
    "              }\n",
    "\n",
    "rf = BalancedRandomForestClassifier()\n",
    "\n",
    "cv = GridSearchCV(rf, parameters, cv=5, verbose=2, n_jobs=8, scoring='f1_macro')\n",
    "cv.fit(features.loc[train_idx].fillna(0).values, df_meta.loc[train_idx][\"label\"])\n",
    "\n",
    "print(cv.best_params_)\n",
    "print(\"Compressing best model\")\n",
    "with open(\"../models/best_rf_balanced.pkl.xz\", \"wb\") as f:\n",
    "    dump(cv.best_estimator_, f, compress=('xz', 9))"
   ]
  },
  {
   "cell_type": "markdown",
   "metadata": {},
   "source": [
    "Download model from Gdrive because it is too big for github\n",
    "\n",
    "Get model predictions and show confussion matrix on test set"
   ]
  },
  {
   "cell_type": "code",
   "execution_count": 4,
   "metadata": {},
   "outputs": [
    {
     "data": {
      "text/plain": [
       "array([[6047,  115,    7],\n",
       "       [ 470, 1770,    3],\n",
       "       [ 273,   24,  139]])"
      ]
     },
     "execution_count": 4,
     "metadata": {},
     "output_type": "execute_result"
    }
   ],
   "source": [
    "if not exists('../models/best_rf_balanced.pkl.xz'):\n",
    "    !pip install gdown\n",
    "    import gdown\n",
    "    gdown.download(\"https://drive.google.com/u/1/uc?export=download&confirm=7p4B&id=1QzNS-wCCsPmEpbz0wjcEUqjsUvy5AkRL\", \n",
    "                   \"../models/best_rf_balanced.pkl.xz\")\n",
    "\n",
    "with open(\"../models/best_rf_balanced.pkl.xz\", \"rb\") as f:\n",
    "    best_model = load(f)    \n",
    "\n",
    "from sklearn.metrics import confusion_matrix\n",
    "\n",
    "confusion_matrix(best_model.predict(features.loc[test_idx].fillna(0).values), \n",
    "                 df_meta.loc[test_idx][\"label\"],\n",
    "                 labels=['binary', 'rrlyrae', 'cepheid'])"
   ]
  },
  {
   "cell_type": "markdown",
   "metadata": {},
   "source": [
    "# Classical RF with ADASYN augmentation"
   ]
  },
  {
   "cell_type": "code",
   "execution_count": null,
   "metadata": {},
   "outputs": [
    {
     "name": "stdout",
     "output_type": "stream",
     "text": [
      "Fitting 5 folds for each of 12 candidates, totalling 60 fits\n"
     ]
    },
    {
     "name": "stderr",
     "output_type": "stream",
     "text": [
      "[Parallel(n_jobs=8)]: Using backend LokyBackend with 8 concurrent workers.\n",
      "[Parallel(n_jobs=8)]: Done  25 tasks      | elapsed: 22.2min\n"
     ]
    }
   ],
   "source": [
    "parameters = {'aug__sampling_strategy': ('minority', 'not majority'), \n",
    "              'aug__n_neighbors': [3, 5, 7],\n",
    "              'rf__class_weight': (None, 'balanced')}\n",
    "\n",
    "#parameters = {'aug__sampling_strategy': ('not minority', 'all'), \n",
    "#              'aug__k_neighbors': [3, 5, 7],\n",
    "#              'rf__class_weight': (None, 'balanced', 'balanced_subsample')}\n",
    "\n",
    "aug = ADASYN()\n",
    "rf = RandomForestClassifier(criterion='gini', n_estimators=500, max_depth=10)\n",
    "pipe = Pipeline([('aug', aug), ('rf', rf)])\n",
    "\n",
    "cv = GridSearchCV(pipe, parameters, cv=5, verbose=2, n_jobs=8, scoring='f1_macro')\n",
    "cv.fit(features.loc[train_idx].fillna(0).values, df_meta.loc[train_idx][\"label\"])\n",
    "\n",
    "print(cv.best_params_)"
   ]
  },
  {
   "cell_type": "code",
   "execution_count": 11,
   "metadata": {},
   "outputs": [
    {
     "name": "stdout",
     "output_type": "stream",
     "text": [
      "{'aug__n_neighbors': 7, 'aug__sampling_strategy': 'minority', 'rf__class_weight': 'balanced'}\n"
     ]
    }
   ],
   "source": [
    "print(cv.best_params_)"
   ]
  },
  {
   "cell_type": "code",
   "execution_count": 13,
   "metadata": {},
   "outputs": [
    {
     "name": "stdout",
     "output_type": "stream",
     "text": [
      "Compressing best model\n"
     ]
    }
   ],
   "source": [
    "print(\"Compressing best model\")\n",
    "with open(\"../models/best_rf_adasyn.pkl.xz\", \"wb\") as f:\n",
    "    dump(cv.best_estimator_['rf'], f, compress=('xz', 6))"
   ]
  },
  {
   "cell_type": "code",
   "execution_count": 14,
   "metadata": {},
   "outputs": [
    {
     "data": {
      "text/plain": [
       "array([[6114,   93,   12],\n",
       "       [ 504, 1799,    3],\n",
       "       [ 172,   17,  134]])"
      ]
     },
     "execution_count": 14,
     "metadata": {},
     "output_type": "execute_result"
    }
   ],
   "source": [
    "#gdown.download(\"https://drive.google.com/u/1/uc?export=download&confirm=7p4B&id=1QzNS-wCCsPmEpbz0wjcEUqjsUvy5AkRL\", \n",
    "#               \"best_rf_balanced.pkl.xz\")\n",
    "\n",
    "with open(\"../models/best_rf_adasyn.pkl.xz\", \"rb\") as f:\n",
    "    best_model = load(f)    \n",
    "\n",
    "from sklearn.metrics import confusion_matrix\n",
    "\n",
    "confusion_matrix(best_model.predict(features.loc[test_idx].fillna(0).values), \n",
    "                 df_meta.loc[test_idx][\"label\"],\n",
    "                 labels=['binary', 'rrlyrae', 'cepheid'])"
   ]
  },
  {
   "cell_type": "code",
   "execution_count": null,
   "metadata": {},
   "outputs": [],
   "source": []
  }
 ],
 "metadata": {
  "kernelspec": {
   "display_name": "Python3 (astro)",
   "language": "python",
   "name": "astro"
  },
  "language_info": {
   "codemirror_mode": {
    "name": "ipython",
    "version": 3
   },
   "file_extension": ".py",
   "mimetype": "text/x-python",
   "name": "python",
   "nbconvert_exporter": "python",
   "pygments_lexer": "ipython3",
   "version": "3.7.5"
  }
 },
 "nbformat": 4,
 "nbformat_minor": 4
}
