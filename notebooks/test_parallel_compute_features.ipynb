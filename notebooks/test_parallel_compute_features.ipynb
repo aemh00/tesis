{
 "cells": [
  {
   "cell_type": "code",
   "execution_count": null,
   "metadata": {},
   "outputs": [],
   "source": [
    "import time\n",
    "%load_ext autoreload\n",
    "%autoreload 2\n",
    "%env MKL_NUM_THREADS=1"
   ]
  },
  {
   "cell_type": "code",
   "execution_count": null,
   "metadata": {},
   "outputs": [],
   "source": [
    "import sys\n",
    "sys.path.append(\"../libs\")\n",
    "from vvv_utils import parse_metadata, parse_light_curve_data, split_list_in_chunks, vvv_path\n",
    "from features import compute_fats_features\n",
    "\n",
    "df_meta = parse_metadata(experiment=\"ALL\", merge_subclasses=True)\n",
    "file_list = df_meta.index\n",
    "\n",
    "list(split_list_in_chunks(file_list[:10], 3))"
   ]
  },
  {
   "cell_type": "markdown",
   "metadata": {},
   "source": [
    "### Serial test"
   ]
  },
  {
   "cell_type": "code",
   "execution_count": null,
   "metadata": {},
   "outputs": [],
   "source": [
    "features = []\n",
    "tinit = time.time()\n",
    "for batch_names in split_list_in_chunks(file_list[:1000], 100):\n",
    "    features.append(compute_fats_features(batch_names))\n",
    "print(\"Total time [minutes]:\", (time.time() - tinit)/60.)"
   ]
  },
  {
   "cell_type": "markdown",
   "metadata": {},
   "source": [
    "### Parallel test"
   ]
  },
  {
   "cell_type": "code",
   "execution_count": null,
   "metadata": {},
   "outputs": [],
   "source": [
    "from joblib import Parallel, delayed\n",
    "\n",
    "tinit = time.time()\n",
    "result = Parallel(n_jobs=10)(delayed(compute_fats_features)(batch_names) for batch_names in split_list_in_chunks(file_list[:1000], 100))\n",
    "print(\"Total time [minutes]:\", (time.time() - tinit)/60.)"
   ]
  },
  {
   "cell_type": "code",
   "execution_count": null,
   "metadata": {},
   "outputs": [],
   "source": [
    "import pandas as pd\n",
    "display(pd.concat(features).head(5))\n",
    "display(pd.concat(features).head(5))"
   ]
  },
  {
   "cell_type": "code",
   "execution_count": null,
   "metadata": {},
   "outputs": [],
   "source": []
  },
  {
   "cell_type": "code",
   "execution_count": null,
   "metadata": {},
   "outputs": [],
   "source": []
  }
 ],
 "metadata": {
  "kernelspec": {
   "display_name": "Astro",
   "language": "python",
   "name": "astro"
  },
  "language_info": {
   "codemirror_mode": {
    "name": "ipython",
    "version": 3
   },
   "file_extension": ".py",
   "mimetype": "text/x-python",
   "name": "python",
   "nbconvert_exporter": "python",
   "pygments_lexer": "ipython3",
   "version": "3.7.7"
  }
 },
 "nbformat": 4,
 "nbformat_minor": 4
}
